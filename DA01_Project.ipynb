{
 "cells": [
  {
   "cell_type": "code",
   "execution_count": 1,
   "metadata": {},
   "outputs": [],
   "source": [
    "#Import Libraries\n",
    "\n",
    "import os\n",
    "import pandas as pd # data processing, CSV file I/O (e.g. pd.read_csv)\n",
    "import numpy as np # linear algebra\n",
    "import random\n",
    "import matplotlib.pyplot as plt\n",
    "import seaborn as sns\n",
    "random.seed(1)\n",
    "\n",
    "\n",
    "# Load the SAS XPT file\n",
    "data = pd.read_sas(\"/Users/troytoy/Downloads/LLCP2023.XPT\", format=\"xport\")\n"
   ]
  },
  {
   "cell_type": "code",
   "execution_count": 2,
   "metadata": {},
   "outputs": [],
   "source": [
    "# Select specific columns for processing\n",
    "brfss_df_selected = data[['DIABETE4',        # Diagnosed with diabetes status (Yes/No/Borderline)\n",
    "                          '_BMI5',          # Body Mass Index (BMI) calculated\n",
    "                          '_RFBMI5',        # Risk factor for obesity (BMI > 30)\n",
    "                          '_RFHYPE6',       # Hypertension status (Yes/No)\n",
    "                          'TOLDHI3',        # High cholesterol diagnosis (Yes/No)\n",
    "                          '_CHOLCH3',       # Cholesterol checked in past 5 years\n",
    "                          'CHCKDNY2',       # Chronic kidney disease diagnosis (Yes/No)\n",
    "                          'SMOKE100',       # Smoked 100 cigarettes in lifetime (Yes/No)\n",
    "                          '_RFDRHV8',       # Heavy alcohol drinking status\n",
    "                          'CVDSTRK3',       # Ever had a stroke (Yes/No)\n",
    "                          '_MICHD',         # Ever had myocardial infarction (Yes/No)\n",
    "                          '_TOTINDA',       # Total physical activity indicator (Active/Inactive)\n",
    "                          'GENHLTH',        # General health status (Excellent to Poor)\n",
    "                          'PHYSHLTH',       # Number of physically unhealthy days in the past 30 days\n",
    "                          'MENTHLTH',       # Number of mentally unhealthy days in the past 30 days\n",
    "                          'DIFFWALK',       # Difficulty walking or climbing stairs (Yes/No)\n",
    "                          '_HLTHPL1',       # Has any health care coverage (Yes/No)\n",
    "                          'MEDCOST1',       # Couldn't see a doctor due to cost (Yes/No)\n",
    "                          'CHECKUP1',       # Last routine check-up time frame\n",
    "                          '_SEX',           # Sex of respondent (Male/Female)\n",
    "                          '_AGEG5YR',       # Age group (5-year intervals)\n",
    "                          'EDUCA',          # Education level\n",
    "                          'INCOME3']]       # Income level"
   ]
  },
  {
   "cell_type": "code",
   "execution_count": 3,
   "metadata": {},
   "outputs": [
    {
     "data": {
      "text/plain": [
       "(433323, 23)"
      ]
     },
     "execution_count": 3,
     "metadata": {},
     "output_type": "execute_result"
    }
   ],
   "source": [
    "\n",
    "#check how many rows and columns are left\n",
    "brfss_df_selected.shape"
   ]
  },
  {
   "cell_type": "code",
   "execution_count": 4,
   "metadata": {},
   "outputs": [
    {
     "data": {
      "text/html": [
       "<div>\n",
       "<style scoped>\n",
       "    .dataframe tbody tr th:only-of-type {\n",
       "        vertical-align: middle;\n",
       "    }\n",
       "\n",
       "    .dataframe tbody tr th {\n",
       "        vertical-align: top;\n",
       "    }\n",
       "\n",
       "    .dataframe thead th {\n",
       "        text-align: right;\n",
       "    }\n",
       "</style>\n",
       "<table border=\"1\" class=\"dataframe\">\n",
       "  <thead>\n",
       "    <tr style=\"text-align: right;\">\n",
       "      <th></th>\n",
       "      <th>DIABETE4</th>\n",
       "      <th>_BMI5</th>\n",
       "      <th>_RFBMI5</th>\n",
       "      <th>_RFHYPE6</th>\n",
       "      <th>TOLDHI3</th>\n",
       "      <th>_CHOLCH3</th>\n",
       "      <th>CHCKDNY2</th>\n",
       "      <th>SMOKE100</th>\n",
       "      <th>_RFDRHV8</th>\n",
       "      <th>CVDSTRK3</th>\n",
       "      <th>...</th>\n",
       "      <th>PHYSHLTH</th>\n",
       "      <th>MENTHLTH</th>\n",
       "      <th>DIFFWALK</th>\n",
       "      <th>_HLTHPL1</th>\n",
       "      <th>MEDCOST1</th>\n",
       "      <th>CHECKUP1</th>\n",
       "      <th>_SEX</th>\n",
       "      <th>_AGEG5YR</th>\n",
       "      <th>EDUCA</th>\n",
       "      <th>INCOME3</th>\n",
       "    </tr>\n",
       "  </thead>\n",
       "  <tbody>\n",
       "    <tr>\n",
       "      <th>0</th>\n",
       "      <td>1.0</td>\n",
       "      <td>3047.0</td>\n",
       "      <td>2.0</td>\n",
       "      <td>2.0</td>\n",
       "      <td>2.0</td>\n",
       "      <td>1.0</td>\n",
       "      <td>2.0</td>\n",
       "      <td>2.0</td>\n",
       "      <td>1.0</td>\n",
       "      <td>2.0</td>\n",
       "      <td>...</td>\n",
       "      <td>88.0</td>\n",
       "      <td>88.0</td>\n",
       "      <td>1.0</td>\n",
       "      <td>1.0</td>\n",
       "      <td>2.0</td>\n",
       "      <td>2.0</td>\n",
       "      <td>2.0</td>\n",
       "      <td>13.0</td>\n",
       "      <td>5.0</td>\n",
       "      <td>99.0</td>\n",
       "    </tr>\n",
       "    <tr>\n",
       "      <th>1</th>\n",
       "      <td>3.0</td>\n",
       "      <td>2856.0</td>\n",
       "      <td>2.0</td>\n",
       "      <td>2.0</td>\n",
       "      <td>1.0</td>\n",
       "      <td>1.0</td>\n",
       "      <td>2.0</td>\n",
       "      <td>2.0</td>\n",
       "      <td>1.0</td>\n",
       "      <td>2.0</td>\n",
       "      <td>...</td>\n",
       "      <td>88.0</td>\n",
       "      <td>88.0</td>\n",
       "      <td>2.0</td>\n",
       "      <td>1.0</td>\n",
       "      <td>2.0</td>\n",
       "      <td>2.0</td>\n",
       "      <td>2.0</td>\n",
       "      <td>13.0</td>\n",
       "      <td>5.0</td>\n",
       "      <td>99.0</td>\n",
       "    </tr>\n",
       "    <tr>\n",
       "      <th>2</th>\n",
       "      <td>3.0</td>\n",
       "      <td>2231.0</td>\n",
       "      <td>1.0</td>\n",
       "      <td>2.0</td>\n",
       "      <td>1.0</td>\n",
       "      <td>1.0</td>\n",
       "      <td>2.0</td>\n",
       "      <td>1.0</td>\n",
       "      <td>1.0</td>\n",
       "      <td>2.0</td>\n",
       "      <td>...</td>\n",
       "      <td>6.0</td>\n",
       "      <td>2.0</td>\n",
       "      <td>1.0</td>\n",
       "      <td>1.0</td>\n",
       "      <td>1.0</td>\n",
       "      <td>1.0</td>\n",
       "      <td>2.0</td>\n",
       "      <td>13.0</td>\n",
       "      <td>4.0</td>\n",
       "      <td>2.0</td>\n",
       "    </tr>\n",
       "    <tr>\n",
       "      <th>3</th>\n",
       "      <td>3.0</td>\n",
       "      <td>2744.0</td>\n",
       "      <td>2.0</td>\n",
       "      <td>1.0</td>\n",
       "      <td>2.0</td>\n",
       "      <td>1.0</td>\n",
       "      <td>2.0</td>\n",
       "      <td>2.0</td>\n",
       "      <td>1.0</td>\n",
       "      <td>2.0</td>\n",
       "      <td>...</td>\n",
       "      <td>2.0</td>\n",
       "      <td>88.0</td>\n",
       "      <td>1.0</td>\n",
       "      <td>1.0</td>\n",
       "      <td>2.0</td>\n",
       "      <td>3.0</td>\n",
       "      <td>2.0</td>\n",
       "      <td>12.0</td>\n",
       "      <td>5.0</td>\n",
       "      <td>99.0</td>\n",
       "    </tr>\n",
       "    <tr>\n",
       "      <th>4</th>\n",
       "      <td>1.0</td>\n",
       "      <td>2585.0</td>\n",
       "      <td>2.0</td>\n",
       "      <td>2.0</td>\n",
       "      <td>2.0</td>\n",
       "      <td>1.0</td>\n",
       "      <td>2.0</td>\n",
       "      <td>2.0</td>\n",
       "      <td>1.0</td>\n",
       "      <td>2.0</td>\n",
       "      <td>...</td>\n",
       "      <td>88.0</td>\n",
       "      <td>88.0</td>\n",
       "      <td>1.0</td>\n",
       "      <td>1.0</td>\n",
       "      <td>2.0</td>\n",
       "      <td>1.0</td>\n",
       "      <td>2.0</td>\n",
       "      <td>12.0</td>\n",
       "      <td>5.0</td>\n",
       "      <td>7.0</td>\n",
       "    </tr>\n",
       "  </tbody>\n",
       "</table>\n",
       "<p>5 rows × 23 columns</p>\n",
       "</div>"
      ],
      "text/plain": [
       "   DIABETE4   _BMI5  _RFBMI5  _RFHYPE6  TOLDHI3  _CHOLCH3  CHCKDNY2  SMOKE100  \\\n",
       "0       1.0  3047.0      2.0       2.0      2.0       1.0       2.0       2.0   \n",
       "1       3.0  2856.0      2.0       2.0      1.0       1.0       2.0       2.0   \n",
       "2       3.0  2231.0      1.0       2.0      1.0       1.0       2.0       1.0   \n",
       "3       3.0  2744.0      2.0       1.0      2.0       1.0       2.0       2.0   \n",
       "4       1.0  2585.0      2.0       2.0      2.0       1.0       2.0       2.0   \n",
       "\n",
       "   _RFDRHV8  CVDSTRK3  ...  PHYSHLTH  MENTHLTH  DIFFWALK  _HLTHPL1  MEDCOST1  \\\n",
       "0       1.0       2.0  ...      88.0      88.0       1.0       1.0       2.0   \n",
       "1       1.0       2.0  ...      88.0      88.0       2.0       1.0       2.0   \n",
       "2       1.0       2.0  ...       6.0       2.0       1.0       1.0       1.0   \n",
       "3       1.0       2.0  ...       2.0      88.0       1.0       1.0       2.0   \n",
       "4       1.0       2.0  ...      88.0      88.0       1.0       1.0       2.0   \n",
       "\n",
       "   CHECKUP1  _SEX  _AGEG5YR  EDUCA  INCOME3  \n",
       "0       2.0   2.0      13.0    5.0     99.0  \n",
       "1       2.0   2.0      13.0    5.0     99.0  \n",
       "2       1.0   2.0      13.0    4.0      2.0  \n",
       "3       3.0   2.0      12.0    5.0     99.0  \n",
       "4       1.0   2.0      12.0    5.0      7.0  \n",
       "\n",
       "[5 rows x 23 columns]"
      ]
     },
     "execution_count": 4,
     "metadata": {},
     "output_type": "execute_result"
    }
   ],
   "source": [
    "brfss_df_selected.head()"
   ]
  },
  {
   "cell_type": "code",
   "execution_count": 5,
   "metadata": {},
   "outputs": [
    {
     "data": {
      "text/plain": [
       "(338867, 23)"
      ]
     },
     "execution_count": 5,
     "metadata": {},
     "output_type": "execute_result"
    }
   ],
   "source": [
    "#Drop missing values from the datafame - knocks 100,000 rows right away\n",
    "brfss_df_selected = brfss_df_selected.dropna()\n",
    "brfss_df_selected.shape"
   ]
  },
  {
   "cell_type": "code",
   "execution_count": 6,
   "metadata": {},
   "outputs": [
    {
     "data": {
      "text/plain": [
       "array([2., 0., 1.])"
      ]
     },
     "execution_count": 6,
     "metadata": {},
     "output_type": "execute_result"
    }
   ],
   "source": [
    "# DIABETE4 : Diabetes Awareness\n",
    "\n",
    "'''Making this ordinal. Set :\n",
    "0 for no diabetes or for only during pregnancy, \n",
    "1 for pre-diabetes or borderline diabetes, \n",
    "2 is for yes diabetes. '''\n",
    "# Remove all 7 (don't knows)\n",
    "# remove all 9 (refused to answer)\n",
    "\n",
    "brfss_df_selected['DIABETE4'] = brfss_df_selected['DIABETE4'].replace({2:0, 3:0, 1:2, 4:1})\n",
    "#remove rows where the value of the column DIABETE4 is equal to 7 and 9.\n",
    "brfss_df_selected = brfss_df_selected[brfss_df_selected.DIABETE4 != 7]\n",
    "brfss_df_selected = brfss_df_selected[brfss_df_selected.DIABETE4 != 9]\n",
    "# verify the effectiveness of the filtering operations by displaying the remaining unique values\n",
    "brfss_df_selected.DIABETE4.unique()"
   ]
  },
  {
   "cell_type": "code",
   "execution_count": 7,
   "metadata": {},
   "outputs": [
    {
     "data": {
      "text/plain": [
       "(338433, 23)"
      ]
     },
     "execution_count": 7,
     "metadata": {},
     "output_type": "execute_result"
    }
   ],
   "source": [
    "#Check the shape of the dataset now: We have 234951 cleaned rows and 25 columns (1 of which is our dependent variable)\n",
    "brfss_df_selected.shape"
   ]
  },
  {
   "cell_type": "code",
   "execution_count": 8,
   "metadata": {},
   "outputs": [
    {
     "data": {
      "text/html": [
       "<div>\n",
       "<style scoped>\n",
       "    .dataframe tbody tr th:only-of-type {\n",
       "        vertical-align: middle;\n",
       "    }\n",
       "\n",
       "    .dataframe tbody tr th {\n",
       "        vertical-align: top;\n",
       "    }\n",
       "\n",
       "    .dataframe thead th {\n",
       "        text-align: right;\n",
       "    }\n",
       "</style>\n",
       "<table border=\"1\" class=\"dataframe\">\n",
       "  <thead>\n",
       "    <tr style=\"text-align: right;\">\n",
       "      <th></th>\n",
       "      <th>DIABETE4</th>\n",
       "      <th>_BMI5</th>\n",
       "      <th>_RFBMI5</th>\n",
       "      <th>_RFHYPE6</th>\n",
       "      <th>TOLDHI3</th>\n",
       "      <th>_CHOLCH3</th>\n",
       "      <th>CHCKDNY2</th>\n",
       "      <th>SMOKE100</th>\n",
       "      <th>_RFDRHV8</th>\n",
       "      <th>CVDSTRK3</th>\n",
       "      <th>...</th>\n",
       "      <th>PHYSHLTH</th>\n",
       "      <th>MENTHLTH</th>\n",
       "      <th>DIFFWALK</th>\n",
       "      <th>_HLTHPL1</th>\n",
       "      <th>MEDCOST1</th>\n",
       "      <th>CHECKUP1</th>\n",
       "      <th>_SEX</th>\n",
       "      <th>_AGEG5YR</th>\n",
       "      <th>EDUCA</th>\n",
       "      <th>INCOME3</th>\n",
       "    </tr>\n",
       "  </thead>\n",
       "  <tbody>\n",
       "    <tr>\n",
       "      <th>0</th>\n",
       "      <td>2.0</td>\n",
       "      <td>3047.0</td>\n",
       "      <td>2.0</td>\n",
       "      <td>2.0</td>\n",
       "      <td>2.0</td>\n",
       "      <td>1.0</td>\n",
       "      <td>2.0</td>\n",
       "      <td>2.0</td>\n",
       "      <td>1.0</td>\n",
       "      <td>2.0</td>\n",
       "      <td>...</td>\n",
       "      <td>88.0</td>\n",
       "      <td>88.0</td>\n",
       "      <td>1.0</td>\n",
       "      <td>1.0</td>\n",
       "      <td>2.0</td>\n",
       "      <td>2.0</td>\n",
       "      <td>2.0</td>\n",
       "      <td>13.0</td>\n",
       "      <td>5.0</td>\n",
       "      <td>99.0</td>\n",
       "    </tr>\n",
       "    <tr>\n",
       "      <th>1</th>\n",
       "      <td>0.0</td>\n",
       "      <td>2856.0</td>\n",
       "      <td>2.0</td>\n",
       "      <td>2.0</td>\n",
       "      <td>1.0</td>\n",
       "      <td>1.0</td>\n",
       "      <td>2.0</td>\n",
       "      <td>2.0</td>\n",
       "      <td>1.0</td>\n",
       "      <td>2.0</td>\n",
       "      <td>...</td>\n",
       "      <td>88.0</td>\n",
       "      <td>88.0</td>\n",
       "      <td>2.0</td>\n",
       "      <td>1.0</td>\n",
       "      <td>2.0</td>\n",
       "      <td>2.0</td>\n",
       "      <td>2.0</td>\n",
       "      <td>13.0</td>\n",
       "      <td>5.0</td>\n",
       "      <td>99.0</td>\n",
       "    </tr>\n",
       "    <tr>\n",
       "      <th>2</th>\n",
       "      <td>0.0</td>\n",
       "      <td>2231.0</td>\n",
       "      <td>1.0</td>\n",
       "      <td>2.0</td>\n",
       "      <td>1.0</td>\n",
       "      <td>1.0</td>\n",
       "      <td>2.0</td>\n",
       "      <td>1.0</td>\n",
       "      <td>1.0</td>\n",
       "      <td>2.0</td>\n",
       "      <td>...</td>\n",
       "      <td>6.0</td>\n",
       "      <td>2.0</td>\n",
       "      <td>1.0</td>\n",
       "      <td>1.0</td>\n",
       "      <td>1.0</td>\n",
       "      <td>1.0</td>\n",
       "      <td>2.0</td>\n",
       "      <td>13.0</td>\n",
       "      <td>4.0</td>\n",
       "      <td>2.0</td>\n",
       "    </tr>\n",
       "    <tr>\n",
       "      <th>3</th>\n",
       "      <td>0.0</td>\n",
       "      <td>2744.0</td>\n",
       "      <td>2.0</td>\n",
       "      <td>1.0</td>\n",
       "      <td>2.0</td>\n",
       "      <td>1.0</td>\n",
       "      <td>2.0</td>\n",
       "      <td>2.0</td>\n",
       "      <td>1.0</td>\n",
       "      <td>2.0</td>\n",
       "      <td>...</td>\n",
       "      <td>2.0</td>\n",
       "      <td>88.0</td>\n",
       "      <td>1.0</td>\n",
       "      <td>1.0</td>\n",
       "      <td>2.0</td>\n",
       "      <td>3.0</td>\n",
       "      <td>2.0</td>\n",
       "      <td>12.0</td>\n",
       "      <td>5.0</td>\n",
       "      <td>99.0</td>\n",
       "    </tr>\n",
       "    <tr>\n",
       "      <th>4</th>\n",
       "      <td>2.0</td>\n",
       "      <td>2585.0</td>\n",
       "      <td>2.0</td>\n",
       "      <td>2.0</td>\n",
       "      <td>2.0</td>\n",
       "      <td>1.0</td>\n",
       "      <td>2.0</td>\n",
       "      <td>2.0</td>\n",
       "      <td>1.0</td>\n",
       "      <td>2.0</td>\n",
       "      <td>...</td>\n",
       "      <td>88.0</td>\n",
       "      <td>88.0</td>\n",
       "      <td>1.0</td>\n",
       "      <td>1.0</td>\n",
       "      <td>2.0</td>\n",
       "      <td>1.0</td>\n",
       "      <td>2.0</td>\n",
       "      <td>12.0</td>\n",
       "      <td>5.0</td>\n",
       "      <td>7.0</td>\n",
       "    </tr>\n",
       "  </tbody>\n",
       "</table>\n",
       "<p>5 rows × 23 columns</p>\n",
       "</div>"
      ],
      "text/plain": [
       "   DIABETE4   _BMI5  _RFBMI5  _RFHYPE6  TOLDHI3  _CHOLCH3  CHCKDNY2  SMOKE100  \\\n",
       "0       2.0  3047.0      2.0       2.0      2.0       1.0       2.0       2.0   \n",
       "1       0.0  2856.0      2.0       2.0      1.0       1.0       2.0       2.0   \n",
       "2       0.0  2231.0      1.0       2.0      1.0       1.0       2.0       1.0   \n",
       "3       0.0  2744.0      2.0       1.0      2.0       1.0       2.0       2.0   \n",
       "4       2.0  2585.0      2.0       2.0      2.0       1.0       2.0       2.0   \n",
       "\n",
       "   _RFDRHV8  CVDSTRK3  ...  PHYSHLTH  MENTHLTH  DIFFWALK  _HLTHPL1  MEDCOST1  \\\n",
       "0       1.0       2.0  ...      88.0      88.0       1.0       1.0       2.0   \n",
       "1       1.0       2.0  ...      88.0      88.0       2.0       1.0       2.0   \n",
       "2       1.0       2.0  ...       6.0       2.0       1.0       1.0       1.0   \n",
       "3       1.0       2.0  ...       2.0      88.0       1.0       1.0       2.0   \n",
       "4       1.0       2.0  ...      88.0      88.0       1.0       1.0       2.0   \n",
       "\n",
       "   CHECKUP1  _SEX  _AGEG5YR  EDUCA  INCOME3  \n",
       "0       2.0   2.0      13.0    5.0     99.0  \n",
       "1       2.0   2.0      13.0    5.0     99.0  \n",
       "2       1.0   2.0      13.0    4.0      2.0  \n",
       "3       3.0   2.0      12.0    5.0     99.0  \n",
       "4       1.0   2.0      12.0    5.0      7.0  \n",
       "\n",
       "[5 rows x 23 columns]"
      ]
     },
     "execution_count": 8,
     "metadata": {},
     "output_type": "execute_result"
    }
   ],
   "source": [
    "#Check how the data looks after Modifying Values\n",
    "brfss_df_selected.head()"
   ]
  },
  {
   "cell_type": "code",
   "execution_count": 9,
   "metadata": {},
   "outputs": [
    {
     "data": {
      "text/plain": [
       "DIABETE4\n",
       "0.0    278806\n",
       "1.0      8910\n",
       "2.0     50717\n",
       "dtype: int64"
      ]
     },
     "execution_count": 9,
     "metadata": {},
     "output_type": "execute_result"
    }
   ],
   "source": [
    "#Check the size of each class for the diabetes column\n",
    "brfss_df_selected.groupby(['DIABETE4']).size()"
   ]
  },
  {
   "cell_type": "code",
   "execution_count": 10,
   "metadata": {},
   "outputs": [
    {
     "name": "stdout",
     "output_type": "stream",
     "text": [
      "Renamed Columns:\n",
      "Index(['Diabetes_Status', 'BMI', 'Obesity_Indicator', 'Hypertension',\n",
      "       'High_Cholesterol', 'Cholesterol_Checked', 'Chronic_Kidney_Disease',\n",
      "       'Smoker_100_Cigarettes', 'Heavy_Alcohol_Consumption', 'Stroke',\n",
      "       'Heart_Disease', 'Physical_Activity', 'General_Health',\n",
      "       'Physical_Unhealthy_Days', 'Mental_Unhealthy_Days',\n",
      "       'Difficulty_Walking', 'Health_Care_Coverage', 'Doctor_Visit_Cost_Issue',\n",
      "       'Last_Checkup', 'Gender', 'Age_Group', 'Education_Level',\n",
      "       'Income_Level'],\n",
      "      dtype='object')\n"
     ]
    }
   ],
   "source": [
    "#remane column\n",
    "brfss = brfss_df_selected.rename(columns={\n",
    "    'DIABETE4': 'Diabetes_Status',          # Diabetes awareness (No/Pre-diabetes/Diabetes)\n",
    "    '_BMI5': 'BMI',                         # Body Mass Index\n",
    "    '_RFBMI5': 'Obesity_Indicator',         # Obesity indicator (BMI >= 30)\n",
    "    '_RFHYPE6': 'Hypertension',             # Hypertension diagnosis\n",
    "    'TOLDHI3': 'High_Cholesterol',          # High cholesterol diagnosis\n",
    "    '_CHOLCH3': 'Cholesterol_Checked',      # Cholesterol checked in the past 5 years\n",
    "    'CHCKDNY2': 'Chronic_Kidney_Disease',   # Chronic kidney disease diagnosis\n",
    "    'SMOKE100': 'Smoker_100_Cigarettes',    # Smoked at least 100 cigarettes in lifetime\n",
    "    '_RFDRHV8': 'Heavy_Alcohol_Consumption',# Heavy alcohol consumption\n",
    "    'CVDSTRK3': 'Stroke',                   # Stroke diagnosis\n",
    "    '_MICHD': 'Heart_Disease',              # Coronary heart disease or heart attack\n",
    "    '_TOTINDA': 'Physical_Activity',        # Physical activity indicator\n",
    "    'GENHLTH': 'General_Health',            # Self-rated general health status\n",
    "    'PHYSHLTH': 'Physical_Unhealthy_Days',  # Number of physically unhealthy days\n",
    "    'MENTHLTH': 'Mental_Unhealthy_Days',    # Number of mentally unhealthy days\n",
    "    'DIFFWALK': 'Difficulty_Walking',       # Difficulty walking or climbing stairs\n",
    "    '_HLTHPL1': 'Health_Care_Coverage',     # Health care coverage indicator\n",
    "    'MEDCOST1': 'Doctor_Visit_Cost_Issue',  # Could not see doctor due to cost\n",
    "    'CHECKUP1': 'Last_Checkup',             # Last routine check-up timeframe\n",
    "    '_SEX': 'Gender',                       # Gender (Male/Female)\n",
    "    '_AGEG5YR': 'Age_Group',                # Age group in 5-year intervals\n",
    "    'EDUCA': 'Education_Level',             # Education level\n",
    "    'INCOME3': 'Income_Level'               # Annual income level\n",
    "})\n",
    "print(\"Renamed Columns:\")\n",
    "print(brfss.columns)"
   ]
  },
  {
   "cell_type": "code",
   "execution_count": 11,
   "metadata": {},
   "outputs": [
    {
     "data": {
      "text/html": [
       "<div>\n",
       "<style scoped>\n",
       "    .dataframe tbody tr th:only-of-type {\n",
       "        vertical-align: middle;\n",
       "    }\n",
       "\n",
       "    .dataframe tbody tr th {\n",
       "        vertical-align: top;\n",
       "    }\n",
       "\n",
       "    .dataframe thead th {\n",
       "        text-align: right;\n",
       "    }\n",
       "</style>\n",
       "<table border=\"1\" class=\"dataframe\">\n",
       "  <thead>\n",
       "    <tr style=\"text-align: right;\">\n",
       "      <th></th>\n",
       "      <th>Diabetes_Status</th>\n",
       "      <th>BMI</th>\n",
       "      <th>Obesity_Indicator</th>\n",
       "      <th>Hypertension</th>\n",
       "      <th>High_Cholesterol</th>\n",
       "      <th>Cholesterol_Checked</th>\n",
       "      <th>Chronic_Kidney_Disease</th>\n",
       "      <th>Smoker_100_Cigarettes</th>\n",
       "      <th>Heavy_Alcohol_Consumption</th>\n",
       "      <th>Stroke</th>\n",
       "      <th>...</th>\n",
       "      <th>Physical_Unhealthy_Days</th>\n",
       "      <th>Mental_Unhealthy_Days</th>\n",
       "      <th>Difficulty_Walking</th>\n",
       "      <th>Health_Care_Coverage</th>\n",
       "      <th>Doctor_Visit_Cost_Issue</th>\n",
       "      <th>Last_Checkup</th>\n",
       "      <th>Gender</th>\n",
       "      <th>Age_Group</th>\n",
       "      <th>Education_Level</th>\n",
       "      <th>Income_Level</th>\n",
       "    </tr>\n",
       "  </thead>\n",
       "  <tbody>\n",
       "    <tr>\n",
       "      <th>0</th>\n",
       "      <td>2.0</td>\n",
       "      <td>3047.0</td>\n",
       "      <td>2.0</td>\n",
       "      <td>2.0</td>\n",
       "      <td>2.0</td>\n",
       "      <td>1.0</td>\n",
       "      <td>2.0</td>\n",
       "      <td>2.0</td>\n",
       "      <td>1.0</td>\n",
       "      <td>2.0</td>\n",
       "      <td>...</td>\n",
       "      <td>88.0</td>\n",
       "      <td>88.0</td>\n",
       "      <td>1.0</td>\n",
       "      <td>1.0</td>\n",
       "      <td>2.0</td>\n",
       "      <td>2.0</td>\n",
       "      <td>2.0</td>\n",
       "      <td>13.0</td>\n",
       "      <td>5.0</td>\n",
       "      <td>99.0</td>\n",
       "    </tr>\n",
       "    <tr>\n",
       "      <th>1</th>\n",
       "      <td>0.0</td>\n",
       "      <td>2856.0</td>\n",
       "      <td>2.0</td>\n",
       "      <td>2.0</td>\n",
       "      <td>1.0</td>\n",
       "      <td>1.0</td>\n",
       "      <td>2.0</td>\n",
       "      <td>2.0</td>\n",
       "      <td>1.0</td>\n",
       "      <td>2.0</td>\n",
       "      <td>...</td>\n",
       "      <td>88.0</td>\n",
       "      <td>88.0</td>\n",
       "      <td>2.0</td>\n",
       "      <td>1.0</td>\n",
       "      <td>2.0</td>\n",
       "      <td>2.0</td>\n",
       "      <td>2.0</td>\n",
       "      <td>13.0</td>\n",
       "      <td>5.0</td>\n",
       "      <td>99.0</td>\n",
       "    </tr>\n",
       "    <tr>\n",
       "      <th>2</th>\n",
       "      <td>0.0</td>\n",
       "      <td>2231.0</td>\n",
       "      <td>1.0</td>\n",
       "      <td>2.0</td>\n",
       "      <td>1.0</td>\n",
       "      <td>1.0</td>\n",
       "      <td>2.0</td>\n",
       "      <td>1.0</td>\n",
       "      <td>1.0</td>\n",
       "      <td>2.0</td>\n",
       "      <td>...</td>\n",
       "      <td>6.0</td>\n",
       "      <td>2.0</td>\n",
       "      <td>1.0</td>\n",
       "      <td>1.0</td>\n",
       "      <td>1.0</td>\n",
       "      <td>1.0</td>\n",
       "      <td>2.0</td>\n",
       "      <td>13.0</td>\n",
       "      <td>4.0</td>\n",
       "      <td>2.0</td>\n",
       "    </tr>\n",
       "    <tr>\n",
       "      <th>3</th>\n",
       "      <td>0.0</td>\n",
       "      <td>2744.0</td>\n",
       "      <td>2.0</td>\n",
       "      <td>1.0</td>\n",
       "      <td>2.0</td>\n",
       "      <td>1.0</td>\n",
       "      <td>2.0</td>\n",
       "      <td>2.0</td>\n",
       "      <td>1.0</td>\n",
       "      <td>2.0</td>\n",
       "      <td>...</td>\n",
       "      <td>2.0</td>\n",
       "      <td>88.0</td>\n",
       "      <td>1.0</td>\n",
       "      <td>1.0</td>\n",
       "      <td>2.0</td>\n",
       "      <td>3.0</td>\n",
       "      <td>2.0</td>\n",
       "      <td>12.0</td>\n",
       "      <td>5.0</td>\n",
       "      <td>99.0</td>\n",
       "    </tr>\n",
       "    <tr>\n",
       "      <th>4</th>\n",
       "      <td>2.0</td>\n",
       "      <td>2585.0</td>\n",
       "      <td>2.0</td>\n",
       "      <td>2.0</td>\n",
       "      <td>2.0</td>\n",
       "      <td>1.0</td>\n",
       "      <td>2.0</td>\n",
       "      <td>2.0</td>\n",
       "      <td>1.0</td>\n",
       "      <td>2.0</td>\n",
       "      <td>...</td>\n",
       "      <td>88.0</td>\n",
       "      <td>88.0</td>\n",
       "      <td>1.0</td>\n",
       "      <td>1.0</td>\n",
       "      <td>2.0</td>\n",
       "      <td>1.0</td>\n",
       "      <td>2.0</td>\n",
       "      <td>12.0</td>\n",
       "      <td>5.0</td>\n",
       "      <td>7.0</td>\n",
       "    </tr>\n",
       "  </tbody>\n",
       "</table>\n",
       "<p>5 rows × 23 columns</p>\n",
       "</div>"
      ],
      "text/plain": [
       "   Diabetes_Status     BMI  Obesity_Indicator  Hypertension  High_Cholesterol  \\\n",
       "0              2.0  3047.0                2.0           2.0               2.0   \n",
       "1              0.0  2856.0                2.0           2.0               1.0   \n",
       "2              0.0  2231.0                1.0           2.0               1.0   \n",
       "3              0.0  2744.0                2.0           1.0               2.0   \n",
       "4              2.0  2585.0                2.0           2.0               2.0   \n",
       "\n",
       "   Cholesterol_Checked  Chronic_Kidney_Disease  Smoker_100_Cigarettes  \\\n",
       "0                  1.0                     2.0                    2.0   \n",
       "1                  1.0                     2.0                    2.0   \n",
       "2                  1.0                     2.0                    1.0   \n",
       "3                  1.0                     2.0                    2.0   \n",
       "4                  1.0                     2.0                    2.0   \n",
       "\n",
       "   Heavy_Alcohol_Consumption  Stroke  ...  Physical_Unhealthy_Days  \\\n",
       "0                        1.0     2.0  ...                     88.0   \n",
       "1                        1.0     2.0  ...                     88.0   \n",
       "2                        1.0     2.0  ...                      6.0   \n",
       "3                        1.0     2.0  ...                      2.0   \n",
       "4                        1.0     2.0  ...                     88.0   \n",
       "\n",
       "   Mental_Unhealthy_Days  Difficulty_Walking  Health_Care_Coverage  \\\n",
       "0                   88.0                 1.0                   1.0   \n",
       "1                   88.0                 2.0                   1.0   \n",
       "2                    2.0                 1.0                   1.0   \n",
       "3                   88.0                 1.0                   1.0   \n",
       "4                   88.0                 1.0                   1.0   \n",
       "\n",
       "   Doctor_Visit_Cost_Issue  Last_Checkup  Gender  Age_Group  Education_Level  \\\n",
       "0                      2.0           2.0     2.0       13.0              5.0   \n",
       "1                      2.0           2.0     2.0       13.0              5.0   \n",
       "2                      1.0           1.0     2.0       13.0              4.0   \n",
       "3                      2.0           3.0     2.0       12.0              5.0   \n",
       "4                      2.0           1.0     2.0       12.0              5.0   \n",
       "\n",
       "   Income_Level  \n",
       "0          99.0  \n",
       "1          99.0  \n",
       "2           2.0  \n",
       "3          99.0  \n",
       "4           7.0  \n",
       "\n",
       "[5 rows x 23 columns]"
      ]
     },
     "execution_count": 11,
     "metadata": {},
     "output_type": "execute_result"
    }
   ],
   "source": [
    "brfss.head()"
   ]
  },
  {
   "cell_type": "code",
   "execution_count": 12,
   "metadata": {},
   "outputs": [
    {
     "data": {
      "text/plain": [
       "(338433, 23)"
      ]
     },
     "execution_count": 12,
     "metadata": {},
     "output_type": "execute_result"
    }
   ],
   "source": [
    "brfss.shape"
   ]
  },
  {
   "cell_type": "code",
   "execution_count": 13,
   "metadata": {},
   "outputs": [
    {
     "data": {
      "text/plain": [
       "Diabetes_Status\n",
       "0.0    278806\n",
       "1.0      8910\n",
       "2.0     50717\n",
       "dtype: int64"
      ]
     },
     "execution_count": 13,
     "metadata": {},
     "output_type": "execute_result"
    }
   ],
   "source": [
    "#Check how many respondents have no diabetes, prediabetes or diabetes.\n",
    "brfss.groupby(['Diabetes_Status']).size()"
   ]
  },
  {
   "cell_type": "code",
   "execution_count": 14,
   "metadata": {},
   "outputs": [],
   "source": [
    "brfss.to_csv('diabetes_BRFSS2023.csv', sep=\",\", index=False)"
   ]
  },
  {
   "cell_type": "code",
   "execution_count": 15,
   "metadata": {},
   "outputs": [
    {
     "name": "stdout",
     "output_type": "stream",
     "text": [
      "Unique values in Diabetes_binary column:\n",
      "[1. 0.]\n"
     ]
    }
   ],
   "source": [
    "# Copy the old dataframe to a new one\n",
    "brfss_binary = brfss.copy()\n",
    "\n",
    "'''Change:\n",
    "Diabetic (2) to 1, Pre-diabetic (1) to 0\n",
    "to have 0 for no diabetes and pre-diabetes, and 1 for diabetes.'''\n",
    "brfss_binary['Diabetes_Status'] = brfss_binary['Diabetes_Status'].replace({1: 0, 2: 1})\n",
    "\n",
    "# Rename the column to Diabetes_binary\n",
    "brfss_binary = brfss_binary.rename(columns={'Diabetes_Status': 'Diabetes_binary'})\n",
    "\n",
    "# Check unique values in the updated Diabetes_binary column\n",
    "print(\"Unique values in Diabetes_binary column:\")\n",
    "print(brfss_binary.Diabetes_binary.unique())"
   ]
  },
  {
   "cell_type": "code",
   "execution_count": 16,
   "metadata": {},
   "outputs": [
    {
     "data": {
      "text/plain": [
       "array([ 30.,  29.,  22.,  27.,  26.,  24.,  33.,  23.,  42.,  28.,  36.,\n",
       "        25.,  38.,  44.,  37.,  31.,  32.,  52.,  34.,  54.,  48.,  20.,\n",
       "        35.,  40.,  19.,  18.,  21.,  46.,  41.,  47.,  39.,  17.,  49.,\n",
       "        43.,  45.,  51.,  50.,  16.,  15.,  56.,  13.,  62.,  77.,  68.,\n",
       "        53.,  59.,  55.,  57.,  67.,  70.,  14.,  63.,  64.,  58.,  66.,\n",
       "        60.,  65.,  72.,  82.,  61.,  76.,  12.,  86.,  83.,  75.,  71.,\n",
       "        73.,  74.,  69.,  84.,  81.,  87., 100.,  78.,  95.,  89.,  80.,\n",
       "        92.,  79.,  97.,  91.,  88.,  90.,  98.,  99.,  94.,  85.])"
      ]
     },
     "execution_count": 16,
     "metadata": {},
     "output_type": "execute_result"
    }
   ],
   "source": [
    "#1 _BMI5 : Body mass index \n",
    "# BMI values are BMI * 100 (i.e. BMI of 1850 is really 18.50)\n",
    "# Divide BMI by 100 and round them to the nearest whole number.\n",
    "\n",
    "brfss_df_selected['_BMI5'] = brfss_df_selected['_BMI5'].div(100).round(0)\n",
    "brfss_df_selected._BMI5.unique()"
   ]
  },
  {
   "cell_type": "code",
   "execution_count": 17,
   "metadata": {},
   "outputs": [
    {
     "data": {
      "text/plain": [
       "array([1., 0.])"
      ]
     },
     "execution_count": 17,
     "metadata": {},
     "output_type": "execute_result"
    }
   ],
   "source": [
    "#2 _RFBMI5 : Body mass index(BMI) greater than 25.00 (Overweight or Obese)\n",
    "'''Change 1 to 0 for not overweight and obese(1200 <= BMI < 2500)\n",
    "2 to 1 for yes overweight or obese'''\n",
    "# Remove all 9 (don't knows and refused to answer)\n",
    "\n",
    "brfss_df_selected['_RFBMI5'] = brfss_df_selected['_RFBMI5'].replace({1:0, 2:1})\n",
    "brfss_df_selected = brfss_df_selected[brfss_df_selected._RFBMI5 != 9]\n",
    "brfss_df_selected._RFBMI5.unique()"
   ]
  },
  {
   "cell_type": "code",
   "execution_count": 18,
   "metadata": {},
   "outputs": [
    {
     "data": {
      "text/plain": [
       "array([1., 0.])"
      ]
     },
     "execution_count": 18,
     "metadata": {},
     "output_type": "execute_result"
    }
   ],
   "source": [
    "#3 _RFHYPE6 : High Blood Pressure Awareness\n",
    "'''Change :\n",
    "1 to 0 for no high blood pressure, \n",
    "2 to 1 for high blood pressure'''\n",
    "# Remove all 9 (don't knows and refused to answer)\n",
    "\n",
    "brfss_df_selected['_RFHYPE6'] = brfss_df_selected['_RFHYPE6'].replace({1:0, 2:1})\n",
    "brfss_df_selected = brfss_df_selected[brfss_df_selected._RFHYPE6 != 9]\n",
    "brfss_df_selected._RFHYPE6.unique()"
   ]
  },
  {
   "cell_type": "code",
   "execution_count": 19,
   "metadata": {},
   "outputs": [
    {
     "data": {
      "text/plain": [
       "array([0., 1.])"
      ]
     },
     "execution_count": 19,
     "metadata": {},
     "output_type": "execute_result"
    }
   ],
   "source": [
    "#4 TOLDHI3 : Cholesterol Awareness\n",
    "'''It has 1 for high cholesterol\n",
    "only change 2 to 0 for no high cholesterol'''\n",
    "# Remove all 7 and 9 (don't knows and refused to answer)\n",
    "\n",
    "brfss_df_selected['TOLDHI3'] = brfss_df_selected['TOLDHI3'].replace({2:0})\n",
    "brfss_df_selected = brfss_df_selected[brfss_df_selected.TOLDHI3 != 7]\n",
    "brfss_df_selected = brfss_df_selected[brfss_df_selected.TOLDHI3 != 9]\n",
    "brfss_df_selected.TOLDHI3.unique()"
   ]
  },
  {
   "cell_type": "code",
   "execution_count": 20,
   "metadata": {},
   "outputs": [
    {
     "data": {
      "text/plain": [
       "array([1., 0.])"
      ]
     },
     "execution_count": 20,
     "metadata": {},
     "output_type": "execute_result"
    }
   ],
   "source": [
    "#5 _CHOLCH3 : Cholesterol check within past five years\n",
    "'''It has 1 for cholesterol checked in past 5 years,\n",
    "change and 2,3 to 0 for not checked cholesterol in past 5 years'''\n",
    "# Remove all 7 and 9 (don't knows and refused to answer)\n",
    "\n",
    "# Replace values in '_CHOLCH3' column according to mappings\n",
    "brfss_df_selected['_CHOLCH3'] = brfss_df_selected['_CHOLCH3'].replace({2: 0, 3: 0})\n",
    "brfss_df_selected = brfss_df_selected[brfss_df_selected._CHOLCH3 != 7]\n",
    "brfss_df_selected = brfss_df_selected[brfss_df_selected._CHOLCH3 != 9]\n",
    "brfss_df_selected._CHOLCH3.unique()"
   ]
  },
  {
   "cell_type": "code",
   "execution_count": 21,
   "metadata": {},
   "outputs": [
    {
     "data": {
      "text/plain": [
       "array([0., 1.])"
      ]
     },
     "execution_count": 21,
     "metadata": {},
     "output_type": "execute_result"
    }
   ],
   "source": [
    "#6 CHCKDNY2 : Unable to control urine flow or kidney disease\n",
    "'''It has 1 for yes uncontrollable urine flow\n",
    "change 2 to 0 for no kidney disease (normal urine flow)'''\n",
    "# Remove all 7 and 9 (don't knows and refused to answer)\n",
    "\n",
    "brfss_df_selected['CHCKDNY2'] = brfss_df_selected['CHCKDNY2'].replace({2: 0})\n",
    "brfss_df_selected = brfss_df_selected[brfss_df_selected.CHCKDNY2 != 7]\n",
    "brfss_df_selected = brfss_df_selected[brfss_df_selected.CHCKDNY2 != 9]\n",
    "brfss_df_selected.CHCKDNY2.unique()"
   ]
  },
  {
   "cell_type": "code",
   "execution_count": 22,
   "metadata": {},
   "outputs": [
    {
     "data": {
      "text/plain": [
       "array([0., 1.])"
      ]
     },
     "execution_count": 22,
     "metadata": {},
     "output_type": "execute_result"
    }
   ],
   "source": [
    "#7 SMOKE100 : Smoked at least 100 Cigarettes\n",
    "'''It has 1 for yes smoked\n",
    "change 2 to 0 for not smoked'''\n",
    "# Remove all 7 and 9 (don't knows and refused to answer)\n",
    "\n",
    "brfss_df_selected['SMOKE100'] = brfss_df_selected['SMOKE100'].replace({2:0})\n",
    "brfss_df_selected = brfss_df_selected[brfss_df_selected.SMOKE100 != 7]\n",
    "brfss_df_selected = brfss_df_selected[brfss_df_selected.SMOKE100 != 9]\n",
    "brfss_df_selected.SMOKE100.unique()"
   ]
  },
  {
   "cell_type": "code",
   "execution_count": 23,
   "metadata": {},
   "outputs": [
    {
     "name": "stdout",
     "output_type": "stream",
     "text": [
      "Unique values in _RFDRHV8 after transformation:\n",
      "[0. 1.]\n"
     ]
    }
   ],
   "source": [
    "# 8. _RFDRHV8 : Heavy Alcohol Consumption\n",
    "'''\n",
    "Making this binary:\n",
    "0 for not a heavy drinker,\n",
    "1 for heavy drinker.\n",
    "'''\n",
    "# Remove all 9 (don't knows and refused to answer)\n",
    "brfss_df_selected['_RFDRHV8'] = brfss_df_selected['_RFDRHV8'].replace({2:1, 1:0})\n",
    "\n",
    "# Remove rows where the value of _RFDRHV8 is equal to 9 (Don't Know/Refused/Missing)\n",
    "brfss_df_selected = brfss_df_selected[brfss_df_selected['_RFDRHV8'] != 9]\n",
    "\n",
    "# Verify the effectiveness of the filtering by displaying the remaining unique values\n",
    "print(\"Unique values in _RFDRHV8 after transformation:\")\n",
    "print(brfss_df_selected['_RFDRHV8'].unique())"
   ]
  },
  {
   "cell_type": "code",
   "execution_count": 24,
   "metadata": {},
   "outputs": [
    {
     "data": {
      "text/plain": [
       "array([0., 1.])"
      ]
     },
     "execution_count": 24,
     "metadata": {},
     "output_type": "execute_result"
    }
   ],
   "source": [
    "#9 CVDSTRK3 : Chronic health conditions\n",
    "'''It has 1 for yes respondant has had a stroke\n",
    "only change 2 to 0 for no'''\n",
    "# Remove all 7 and 9 (don't knows and refused to answer)\n",
    "\n",
    "brfss_df_selected['CVDSTRK3'] = brfss_df_selected['CVDSTRK3'].replace({2:0})\n",
    "brfss_df_selected = brfss_df_selected[brfss_df_selected.CVDSTRK3 != 7]\n",
    "brfss_df_selected = brfss_df_selected[brfss_df_selected.CVDSTRK3 != 9]\n",
    "brfss_df_selected.CVDSTRK3.unique()"
   ]
  },
  {
   "cell_type": "code",
   "execution_count": 25,
   "metadata": {},
   "outputs": [
    {
     "data": {
      "text/plain": [
       "array([0., 1.])"
      ]
     },
     "execution_count": 25,
     "metadata": {},
     "output_type": "execute_result"
    }
   ],
   "source": [
    "#10 _MICHD : Ever has Coronary Heart Disease (CHD) or Myocardial Infarction(MI)\n",
    "'''It has 1 for yes respondant has CHD or MI\n",
    "Change 2 to 0 for respondant does not have CHD or MI'''\n",
    "brfss_df_selected['_MICHD'] = brfss_df_selected['_MICHD'].replace({2: 0})\n",
    "brfss_df_selected._MICHD.unique()"
   ]
  },
  {
   "cell_type": "code",
   "execution_count": 26,
   "metadata": {},
   "outputs": [
    {
     "data": {
      "text/plain": [
       "array([0., 1.])"
      ]
     },
     "execution_count": 26,
     "metadata": {},
     "output_type": "execute_result"
    }
   ],
   "source": [
    "#11 _TOTINDA : Does physical activity or exercise\n",
    "'''It has 1 for yes respondant does physical activity or excercise\n",
    "Change 2 to 0 for not involved in any physical activity or excercise'''\n",
    "# Remove all 9 (don't knows and refused to answer)\n",
    "\n",
    "brfss_df_selected['_TOTINDA'] = brfss_df_selected['_TOTINDA'].replace({2: 0})\n",
    "brfss_df_selected = brfss_df_selected[brfss_df_selected._TOTINDA != 9]\n",
    "brfss_df_selected._TOTINDA.unique()"
   ]
  },
  {
   "cell_type": "code",
   "execution_count": 27,
   "metadata": {},
   "outputs": [
    {
     "data": {
      "text/plain": [
       "array([2., 4., 3., 1., 5.])"
      ]
     },
     "execution_count": 27,
     "metadata": {},
     "output_type": "execute_result"
    }
   ],
   "source": [
    "#12 GENHLTH : Genreal Health Status\n",
    "'''This is an ordinal column which will remain as it is\n",
    "(1 = Excellent, 2 = Very good, 3 = Good, 4 = Fair, 5 = Poor)'''\n",
    "# Remove all 7 and 9 (don't knows and refused to answer)\n",
    "\n",
    "brfss_df_selected = brfss_df_selected[brfss_df_selected.GENHLTH != 7]\n",
    "brfss_df_selected = brfss_df_selected[brfss_df_selected.GENHLTH != 9]\n",
    "brfss_df_selected.GENHLTH.unique()"
   ]
  },
  {
   "cell_type": "code",
   "execution_count": 28,
   "metadata": {},
   "outputs": [
    {
     "data": {
      "text/plain": [
       "array([ 0.,  6.,  2.,  8.,  1.,  5.,  4., 15., 30., 21., 10., 25., 14.,\n",
       "        7., 20.,  3., 12., 26., 24., 18., 13., 28., 16., 17., 11., 22.,\n",
       "       27.,  9., 29., 23., 19.])"
      ]
     },
     "execution_count": 28,
     "metadata": {},
     "output_type": "execute_result"
    }
   ],
   "source": [
    "# 13 PHYSHLTH : Number of days Physical Health is good\n",
    "'''It has a scale of 0-30 days for good physical health days\n",
    "change 88 to 0 for no as repondant has bad health days'''\n",
    "# Remove all 77 and 99 (don't knows and refused to answer)\n",
    "\n",
    "brfss_df_selected['PHYSHLTH'] = brfss_df_selected['PHYSHLTH'].replace({88:0})\n",
    "brfss_df_selected = brfss_df_selected[brfss_df_selected.PHYSHLTH != 77]\n",
    "brfss_df_selected = brfss_df_selected[brfss_df_selected.PHYSHLTH != 99]\n",
    "brfss_df_selected.PHYSHLTH.unique()"
   ]
  },
  {
   "cell_type": "code",
   "execution_count": 29,
   "metadata": {},
   "outputs": [
    {
     "data": {
      "text/plain": [
       "array([ 0.,  2.,  3., 25., 10., 30., 20., 15.,  5., 12.,  4.,  1.,  6.,\n",
       "       21.,  7., 14., 29.,  8., 16., 17.,  9., 28., 11., 18., 22., 24.,\n",
       "       13., 27., 26., 19., 23.])"
      ]
     },
     "execution_count": 29,
     "metadata": {},
     "output_type": "execute_result"
    }
   ],
   "source": [
    "#14 MENTHLTH : Number of days Mental Health is not good\n",
    "'''It has a scale of 0-30 days for bad mental health days\n",
    "change 88 to 0 for no as repondant has no bad mental health days(good mental health days)'''\n",
    "# Remove all 77 and 99 (don't knows and refused to answer)\n",
    "\n",
    "brfss_df_selected['MENTHLTH'] = brfss_df_selected['MENTHLTH'].replace({88:0})\n",
    "brfss_df_selected = brfss_df_selected[brfss_df_selected.MENTHLTH != 77]\n",
    "brfss_df_selected = brfss_df_selected[brfss_df_selected.MENTHLTH != 99]\n",
    "brfss_df_selected.MENTHLTH.unique()"
   ]
  },
  {
   "cell_type": "code",
   "execution_count": 30,
   "metadata": {},
   "outputs": [
    {
     "data": {
      "text/plain": [
       "array([1., 0.])"
      ]
     },
     "execution_count": 30,
     "metadata": {},
     "output_type": "execute_result"
    }
   ],
   "source": [
    "#15 DIFFWALK : Difficulty Walking or climbing stairs\n",
    "'''It has 1 for yes difficulty walking or climbing stairs\n",
    "change 2 to 0 for no difficulty walking or climbing stairs'''\n",
    "# Remove all 7 and 9 (don't knows and refused to answer)\n",
    "\n",
    "brfss_df_selected['DIFFWALK'] = brfss_df_selected['DIFFWALK'].replace({2:0})\n",
    "brfss_df_selected = brfss_df_selected[brfss_df_selected.DIFFWALK != 7]\n",
    "brfss_df_selected = brfss_df_selected[brfss_df_selected.DIFFWALK != 9]\n",
    "brfss_df_selected.DIFFWALK.unique()"
   ]
  },
  {
   "cell_type": "code",
   "execution_count": 31,
   "metadata": {},
   "outputs": [
    {
     "data": {
      "text/plain": [
       "array([1., 0.])"
      ]
     },
     "execution_count": 31,
     "metadata": {},
     "output_type": "execute_result"
    }
   ],
   "source": [
    "#16 _HLTHPL1 : Have any health care access or insurance\n",
    "'''It has 1 for yes respondant has health care access\n",
    "change 2 to 0 for no health care access'''\n",
    "# Remove all 7 and 9 (don't knows and refused to answer)\n",
    "\n",
    "brfss_df_selected['_HLTHPL1'] = brfss_df_selected['_HLTHPL1'].replace({2:0})\n",
    "brfss_df_selected = brfss_df_selected[brfss_df_selected._HLTHPL1 != 7]\n",
    "brfss_df_selected = brfss_df_selected[brfss_df_selected._HLTHPL1 != 9]\n",
    "brfss_df_selected._HLTHPL1.unique()"
   ]
  },
  {
   "cell_type": "code",
   "execution_count": 32,
   "metadata": {},
   "outputs": [
    {
     "data": {
      "text/plain": [
       "array([0., 1.])"
      ]
     },
     "execution_count": 32,
     "metadata": {},
     "output_type": "execute_result"
    }
   ],
   "source": [
    "#17 MEDCOST1 : Couldn't afford to see a doctor\n",
    "'''It has 1 for yes \n",
    "change 2 to 0 for no couldn't afford to see a doctor when needed'''\n",
    "# Remove all 7 and 9 (don't knows and refused to answer)\n",
    "\n",
    "brfss_df_selected['MEDCOST1'] = brfss_df_selected['MEDCOST1'].replace({2:0})\n",
    "brfss_df_selected = brfss_df_selected[brfss_df_selected.MEDCOST1 != 7]\n",
    "brfss_df_selected = brfss_df_selected[brfss_df_selected.MEDCOST1 != 9]\n",
    "brfss_df_selected.MEDCOST1.unique()"
   ]
  },
  {
   "cell_type": "code",
   "execution_count": 33,
   "metadata": {},
   "outputs": [
    {
     "data": {
      "text/plain": [
       "array([2., 1., 3., 5., 4.])"
      ]
     },
     "execution_count": 33,
     "metadata": {},
     "output_type": "execute_result"
    }
   ],
   "source": [
    "#18 CHECKUP1 : Last routine check up\n",
    "'''It is already an ordinal column with:\n",
    "1 = Within past year (anytime less than 12 months ago)\n",
    "2 = Within past 2 years (1 year but less than 2 years ago)\n",
    "3 = Within past 5 years (2 years but less than 5 years ago)\n",
    "4 = 5 or more years ago\n",
    "Change 8 to 5 for Never'''\n",
    "# Remove all 7 and 9 (don't knows and refused to answer)\n",
    "\n",
    "brfss_df_selected['CHECKUP1'] = brfss_df_selected['CHECKUP1'].replace({8:5})\n",
    "brfss_df_selected = brfss_df_selected[brfss_df_selected.CHECKUP1 != 7]\n",
    "brfss_df_selected = brfss_df_selected[brfss_df_selected.CHECKUP1 != 9]\n",
    "brfss_df_selected.CHECKUP1.unique()"
   ]
  },
  {
   "cell_type": "code",
   "execution_count": 34,
   "metadata": {},
   "outputs": [
    {
     "data": {
      "text/plain": [
       "array([0., 1.])"
      ]
     },
     "execution_count": 34,
     "metadata": {},
     "output_type": "execute_result"
    }
   ],
   "source": [
    "#19 _SEX : Respondant's SEX\n",
    "'''Set 0 for female (change 2 to 0)\n",
    "and 1 for male because men comparatively are at higher risk for heart disease'''\n",
    "brfss_df_selected['_SEX'] = brfss_df_selected['_SEX'].replace({2:0})\n",
    "brfss_df_selected._SEX.unique()"
   ]
  },
  {
   "cell_type": "code",
   "execution_count": 35,
   "metadata": {},
   "outputs": [
    {
     "data": {
      "text/plain": [
       "array([13., 12.,  9.,  8., 10., 11.,  6.,  4.,  5.,  7.,  2.,  1.,  3.])"
      ]
     },
     "execution_count": 35,
     "metadata": {},
     "output_type": "execute_result"
    }
   ],
   "source": [
    "#20 _AGEG5YR : Reported age in five-year age categories\n",
    "'''It is already ordinal with 5 year interval\n",
    "It starts with 1 for age 18-24 all the way to 13 for 80 years and older'''\n",
    "# Remove 14 for missing and don't know values\n",
    "\n",
    "brfss_df_selected = brfss_df_selected[brfss_df_selected._AGEG5YR != 14]\n",
    "brfss_df_selected._AGEG5YR.unique()"
   ]
  },
  {
   "cell_type": "code",
   "execution_count": 36,
   "metadata": {},
   "outputs": [
    {
     "data": {
      "text/plain": [
       "array([5., 4., 6., 3., 2., 1.])"
      ]
     },
     "execution_count": 36,
     "metadata": {},
     "output_type": "execute_result"
    }
   ],
   "source": [
    "#21 EDUCA : Education Level\n",
    "'''It is an ordinal column with: \n",
    "1 = never attended education(school or kindergarten)\n",
    "2 = Elementary school\n",
    "3 = Some high school\n",
    "4 = Grade 12 or GED (High school graduate)\n",
    "5 = College 1 year to 3 years (Some college or technical school)\n",
    "6 = college graduate(4 years or more)'''\n",
    "# Remove all 9 (refused to answer)\n",
    "\n",
    "brfss_df_selected = brfss_df_selected[brfss_df_selected.EDUCA != 9]\n",
    "brfss_df_selected.EDUCA.unique()"
   ]
  },
  {
   "cell_type": "code",
   "execution_count": 37,
   "metadata": {},
   "outputs": [
    {
     "data": {
      "text/plain": [
       "array([ 2.,  7.,  6.,  9.,  3.,  5.,  4.,  8., 11., 10.,  1.])"
      ]
     },
     "execution_count": 37,
     "metadata": {},
     "output_type": "execute_result"
    }
   ],
   "source": [
    "#22 INCOME3 : Annual Income level\n",
    "'''It is already ordinal with 1 for less than $10,000 all the way up to 8 being $75,000 or more'''\n",
    "# Remove all 77 and 99 (don't knows and refused to answer)\n",
    "\n",
    "brfss_df_selected = brfss_df_selected[brfss_df_selected.INCOME3 != 77]\n",
    "brfss_df_selected = brfss_df_selected[brfss_df_selected.INCOME3 != 99]\n",
    "brfss_df_selected.INCOME3.unique()"
   ]
  },
  {
   "cell_type": "code",
   "execution_count": 38,
   "metadata": {},
   "outputs": [
    {
     "data": {
      "text/plain": [
       "(259851, 23)"
      ]
     },
     "execution_count": 38,
     "metadata": {},
     "output_type": "execute_result"
    }
   ],
   "source": [
    "#Check the shape of the dataset now: We have 234951 cleaned rows and 25 columns (1 of which is our dependent variable)\n",
    "brfss_df_selected.shape"
   ]
  },
  {
   "cell_type": "code",
   "execution_count": 39,
   "metadata": {},
   "outputs": [
    {
     "data": {
      "text/html": [
       "<div>\n",
       "<style scoped>\n",
       "    .dataframe tbody tr th:only-of-type {\n",
       "        vertical-align: middle;\n",
       "    }\n",
       "\n",
       "    .dataframe tbody tr th {\n",
       "        vertical-align: top;\n",
       "    }\n",
       "\n",
       "    .dataframe thead th {\n",
       "        text-align: right;\n",
       "    }\n",
       "</style>\n",
       "<table border=\"1\" class=\"dataframe\">\n",
       "  <thead>\n",
       "    <tr style=\"text-align: right;\">\n",
       "      <th></th>\n",
       "      <th>DIABETE4</th>\n",
       "      <th>_BMI5</th>\n",
       "      <th>_RFBMI5</th>\n",
       "      <th>_RFHYPE6</th>\n",
       "      <th>TOLDHI3</th>\n",
       "      <th>_CHOLCH3</th>\n",
       "      <th>CHCKDNY2</th>\n",
       "      <th>SMOKE100</th>\n",
       "      <th>_RFDRHV8</th>\n",
       "      <th>CVDSTRK3</th>\n",
       "      <th>...</th>\n",
       "      <th>PHYSHLTH</th>\n",
       "      <th>MENTHLTH</th>\n",
       "      <th>DIFFWALK</th>\n",
       "      <th>_HLTHPL1</th>\n",
       "      <th>MEDCOST1</th>\n",
       "      <th>CHECKUP1</th>\n",
       "      <th>_SEX</th>\n",
       "      <th>_AGEG5YR</th>\n",
       "      <th>EDUCA</th>\n",
       "      <th>INCOME3</th>\n",
       "    </tr>\n",
       "  </thead>\n",
       "  <tbody>\n",
       "    <tr>\n",
       "      <th>2</th>\n",
       "      <td>0.0</td>\n",
       "      <td>22.0</td>\n",
       "      <td>0.0</td>\n",
       "      <td>1.0</td>\n",
       "      <td>1.0</td>\n",
       "      <td>1.0</td>\n",
       "      <td>0.0</td>\n",
       "      <td>1.0</td>\n",
       "      <td>0.0</td>\n",
       "      <td>0.0</td>\n",
       "      <td>...</td>\n",
       "      <td>6.0</td>\n",
       "      <td>2.0</td>\n",
       "      <td>1.0</td>\n",
       "      <td>1.0</td>\n",
       "      <td>1.0</td>\n",
       "      <td>1.0</td>\n",
       "      <td>0.0</td>\n",
       "      <td>13.0</td>\n",
       "      <td>4.0</td>\n",
       "      <td>2.0</td>\n",
       "    </tr>\n",
       "    <tr>\n",
       "      <th>4</th>\n",
       "      <td>2.0</td>\n",
       "      <td>26.0</td>\n",
       "      <td>1.0</td>\n",
       "      <td>1.0</td>\n",
       "      <td>0.0</td>\n",
       "      <td>1.0</td>\n",
       "      <td>0.0</td>\n",
       "      <td>0.0</td>\n",
       "      <td>0.0</td>\n",
       "      <td>0.0</td>\n",
       "      <td>...</td>\n",
       "      <td>0.0</td>\n",
       "      <td>0.0</td>\n",
       "      <td>1.0</td>\n",
       "      <td>1.0</td>\n",
       "      <td>0.0</td>\n",
       "      <td>1.0</td>\n",
       "      <td>0.0</td>\n",
       "      <td>12.0</td>\n",
       "      <td>5.0</td>\n",
       "      <td>7.0</td>\n",
       "    </tr>\n",
       "    <tr>\n",
       "      <th>5</th>\n",
       "      <td>0.0</td>\n",
       "      <td>30.0</td>\n",
       "      <td>1.0</td>\n",
       "      <td>1.0</td>\n",
       "      <td>1.0</td>\n",
       "      <td>1.0</td>\n",
       "      <td>0.0</td>\n",
       "      <td>0.0</td>\n",
       "      <td>0.0</td>\n",
       "      <td>0.0</td>\n",
       "      <td>...</td>\n",
       "      <td>2.0</td>\n",
       "      <td>3.0</td>\n",
       "      <td>0.0</td>\n",
       "      <td>1.0</td>\n",
       "      <td>0.0</td>\n",
       "      <td>1.0</td>\n",
       "      <td>0.0</td>\n",
       "      <td>9.0</td>\n",
       "      <td>5.0</td>\n",
       "      <td>7.0</td>\n",
       "    </tr>\n",
       "    <tr>\n",
       "      <th>8</th>\n",
       "      <td>0.0</td>\n",
       "      <td>33.0</td>\n",
       "      <td>1.0</td>\n",
       "      <td>1.0</td>\n",
       "      <td>1.0</td>\n",
       "      <td>1.0</td>\n",
       "      <td>1.0</td>\n",
       "      <td>0.0</td>\n",
       "      <td>0.0</td>\n",
       "      <td>0.0</td>\n",
       "      <td>...</td>\n",
       "      <td>5.0</td>\n",
       "      <td>0.0</td>\n",
       "      <td>1.0</td>\n",
       "      <td>1.0</td>\n",
       "      <td>0.0</td>\n",
       "      <td>1.0</td>\n",
       "      <td>0.0</td>\n",
       "      <td>13.0</td>\n",
       "      <td>5.0</td>\n",
       "      <td>6.0</td>\n",
       "    </tr>\n",
       "    <tr>\n",
       "      <th>9</th>\n",
       "      <td>2.0</td>\n",
       "      <td>23.0</td>\n",
       "      <td>0.0</td>\n",
       "      <td>1.0</td>\n",
       "      <td>1.0</td>\n",
       "      <td>1.0</td>\n",
       "      <td>0.0</td>\n",
       "      <td>1.0</td>\n",
       "      <td>0.0</td>\n",
       "      <td>0.0</td>\n",
       "      <td>...</td>\n",
       "      <td>0.0</td>\n",
       "      <td>0.0</td>\n",
       "      <td>0.0</td>\n",
       "      <td>1.0</td>\n",
       "      <td>0.0</td>\n",
       "      <td>1.0</td>\n",
       "      <td>1.0</td>\n",
       "      <td>12.0</td>\n",
       "      <td>4.0</td>\n",
       "      <td>7.0</td>\n",
       "    </tr>\n",
       "  </tbody>\n",
       "</table>\n",
       "<p>5 rows × 23 columns</p>\n",
       "</div>"
      ],
      "text/plain": [
       "   DIABETE4  _BMI5  _RFBMI5  _RFHYPE6  TOLDHI3  _CHOLCH3  CHCKDNY2  SMOKE100  \\\n",
       "2       0.0   22.0      0.0       1.0      1.0       1.0       0.0       1.0   \n",
       "4       2.0   26.0      1.0       1.0      0.0       1.0       0.0       0.0   \n",
       "5       0.0   30.0      1.0       1.0      1.0       1.0       0.0       0.0   \n",
       "8       0.0   33.0      1.0       1.0      1.0       1.0       1.0       0.0   \n",
       "9       2.0   23.0      0.0       1.0      1.0       1.0       0.0       1.0   \n",
       "\n",
       "   _RFDRHV8  CVDSTRK3  ...  PHYSHLTH  MENTHLTH  DIFFWALK  _HLTHPL1  MEDCOST1  \\\n",
       "2       0.0       0.0  ...       6.0       2.0       1.0       1.0       1.0   \n",
       "4       0.0       0.0  ...       0.0       0.0       1.0       1.0       0.0   \n",
       "5       0.0       0.0  ...       2.0       3.0       0.0       1.0       0.0   \n",
       "8       0.0       0.0  ...       5.0       0.0       1.0       1.0       0.0   \n",
       "9       0.0       0.0  ...       0.0       0.0       0.0       1.0       0.0   \n",
       "\n",
       "   CHECKUP1  _SEX  _AGEG5YR  EDUCA  INCOME3  \n",
       "2       1.0   0.0      13.0    4.0      2.0  \n",
       "4       1.0   0.0      12.0    5.0      7.0  \n",
       "5       1.0   0.0       9.0    5.0      7.0  \n",
       "8       1.0   0.0      13.0    5.0      6.0  \n",
       "9       1.0   1.0      12.0    4.0      7.0  \n",
       "\n",
       "[5 rows x 23 columns]"
      ]
     },
     "execution_count": 39,
     "metadata": {},
     "output_type": "execute_result"
    }
   ],
   "source": [
    "#Check how the data looks after Modifying Values\n",
    "brfss_df_selected.head()"
   ]
  },
  {
   "cell_type": "code",
   "execution_count": 40,
   "metadata": {},
   "outputs": [
    {
     "data": {
      "text/plain": [
       "DIABETE4\n",
       "0.0    215430\n",
       "1.0      6512\n",
       "2.0     37909\n",
       "dtype: int64"
      ]
     },
     "execution_count": 40,
     "metadata": {},
     "output_type": "execute_result"
    }
   ],
   "source": [
    "#Check the size of each class for the diabetes column\n",
    "brfss_df_selected.groupby(['DIABETE4']).size()"
   ]
  },
  {
   "cell_type": "code",
   "execution_count": 41,
   "metadata": {},
   "outputs": [
    {
     "name": "stdout",
     "output_type": "stream",
     "text": [
      "Renamed Columns:\n",
      "Index(['Diabetes_Status', 'BMI', 'Obesity_Indicator', 'Hypertension',\n",
      "       'High_Cholesterol', 'Cholesterol_Checked', 'Chronic_Kidney_Disease',\n",
      "       'Smoker_100_Cigarettes', 'Heavy_Alcohol_Consumption', 'Stroke',\n",
      "       'Heart_Disease', 'Physical_Activity', 'General_Health',\n",
      "       'Physical_Unhealthy_Days', 'Mental_Unhealthy_Days',\n",
      "       'Difficulty_Walking', 'Health_Care_Coverage', 'Doctor_Visit_Cost_Issue',\n",
      "       'Last_Checkup', 'Gender', 'Age_Group', 'Education_Level',\n",
      "       'Income_Level'],\n",
      "      dtype='object')\n"
     ]
    }
   ],
   "source": [
    "brfss = brfss_df_selected.rename(columns={\n",
    "    'DIABETE4': 'Diabetes_Status',          # Diabetes awareness (No/Pre-diabetes/Diabetes)\n",
    "    '_BMI5': 'BMI',                         # Body Mass Index\n",
    "    '_RFBMI5': 'Obesity_Indicator',         # Obesity indicator (BMI >= 30)\n",
    "    '_RFHYPE6': 'Hypertension',             # Hypertension diagnosis\n",
    "    'TOLDHI3': 'High_Cholesterol',          # High cholesterol diagnosis\n",
    "    '_CHOLCH3': 'Cholesterol_Checked',      # Cholesterol checked in the past 5 years\n",
    "    'CHCKDNY2': 'Chronic_Kidney_Disease',   # Chronic kidney disease diagnosis\n",
    "    'SMOKE100': 'Smoker_100_Cigarettes',    # Smoked at least 100 cigarettes in lifetime\n",
    "    '_RFDRHV8': 'Heavy_Alcohol_Consumption',# Heavy alcohol consumption\n",
    "    'CVDSTRK3': 'Stroke',                   # Stroke diagnosis\n",
    "    '_MICHD': 'Heart_Disease',              # Coronary heart disease or heart attack\n",
    "    '_TOTINDA': 'Physical_Activity',        # Physical activity indicator\n",
    "    'GENHLTH': 'General_Health',            # Self-rated general health status\n",
    "    'PHYSHLTH': 'Physical_Unhealthy_Days',  # Number of physically unhealthy days\n",
    "    'MENTHLTH': 'Mental_Unhealthy_Days',    # Number of mentally unhealthy days\n",
    "    'DIFFWALK': 'Difficulty_Walking',       # Difficulty walking or climbing stairs\n",
    "    '_HLTHPL1': 'Health_Care_Coverage',     # Health care coverage indicator\n",
    "    'MEDCOST1': 'Doctor_Visit_Cost_Issue',  # Could not see doctor due to cost\n",
    "    'CHECKUP1': 'Last_Checkup',             # Last routine check-up timeframe\n",
    "    '_SEX': 'Gender',                       # Gender (Male/Female)\n",
    "    '_AGEG5YR': 'Age_Group',                # Age group in 5-year intervals\n",
    "    'EDUCA': 'Education_Level',             # Education level\n",
    "    'INCOME3': 'Income_Level'               # Annual income level\n",
    "})\n",
    "print(\"Renamed Columns:\")\n",
    "print(brfss.columns)"
   ]
  },
  {
   "cell_type": "code",
   "execution_count": 42,
   "metadata": {},
   "outputs": [
    {
     "data": {
      "text/html": [
       "<div>\n",
       "<style scoped>\n",
       "    .dataframe tbody tr th:only-of-type {\n",
       "        vertical-align: middle;\n",
       "    }\n",
       "\n",
       "    .dataframe tbody tr th {\n",
       "        vertical-align: top;\n",
       "    }\n",
       "\n",
       "    .dataframe thead th {\n",
       "        text-align: right;\n",
       "    }\n",
       "</style>\n",
       "<table border=\"1\" class=\"dataframe\">\n",
       "  <thead>\n",
       "    <tr style=\"text-align: right;\">\n",
       "      <th></th>\n",
       "      <th>Diabetes_Status</th>\n",
       "      <th>BMI</th>\n",
       "      <th>Obesity_Indicator</th>\n",
       "      <th>Hypertension</th>\n",
       "      <th>High_Cholesterol</th>\n",
       "      <th>Cholesterol_Checked</th>\n",
       "      <th>Chronic_Kidney_Disease</th>\n",
       "      <th>Smoker_100_Cigarettes</th>\n",
       "      <th>Heavy_Alcohol_Consumption</th>\n",
       "      <th>Stroke</th>\n",
       "      <th>...</th>\n",
       "      <th>Physical_Unhealthy_Days</th>\n",
       "      <th>Mental_Unhealthy_Days</th>\n",
       "      <th>Difficulty_Walking</th>\n",
       "      <th>Health_Care_Coverage</th>\n",
       "      <th>Doctor_Visit_Cost_Issue</th>\n",
       "      <th>Last_Checkup</th>\n",
       "      <th>Gender</th>\n",
       "      <th>Age_Group</th>\n",
       "      <th>Education_Level</th>\n",
       "      <th>Income_Level</th>\n",
       "    </tr>\n",
       "  </thead>\n",
       "  <tbody>\n",
       "    <tr>\n",
       "      <th>2</th>\n",
       "      <td>0.0</td>\n",
       "      <td>22.0</td>\n",
       "      <td>0.0</td>\n",
       "      <td>1.0</td>\n",
       "      <td>1.0</td>\n",
       "      <td>1.0</td>\n",
       "      <td>0.0</td>\n",
       "      <td>1.0</td>\n",
       "      <td>0.0</td>\n",
       "      <td>0.0</td>\n",
       "      <td>...</td>\n",
       "      <td>6.0</td>\n",
       "      <td>2.0</td>\n",
       "      <td>1.0</td>\n",
       "      <td>1.0</td>\n",
       "      <td>1.0</td>\n",
       "      <td>1.0</td>\n",
       "      <td>0.0</td>\n",
       "      <td>13.0</td>\n",
       "      <td>4.0</td>\n",
       "      <td>2.0</td>\n",
       "    </tr>\n",
       "    <tr>\n",
       "      <th>4</th>\n",
       "      <td>2.0</td>\n",
       "      <td>26.0</td>\n",
       "      <td>1.0</td>\n",
       "      <td>1.0</td>\n",
       "      <td>0.0</td>\n",
       "      <td>1.0</td>\n",
       "      <td>0.0</td>\n",
       "      <td>0.0</td>\n",
       "      <td>0.0</td>\n",
       "      <td>0.0</td>\n",
       "      <td>...</td>\n",
       "      <td>0.0</td>\n",
       "      <td>0.0</td>\n",
       "      <td>1.0</td>\n",
       "      <td>1.0</td>\n",
       "      <td>0.0</td>\n",
       "      <td>1.0</td>\n",
       "      <td>0.0</td>\n",
       "      <td>12.0</td>\n",
       "      <td>5.0</td>\n",
       "      <td>7.0</td>\n",
       "    </tr>\n",
       "    <tr>\n",
       "      <th>5</th>\n",
       "      <td>0.0</td>\n",
       "      <td>30.0</td>\n",
       "      <td>1.0</td>\n",
       "      <td>1.0</td>\n",
       "      <td>1.0</td>\n",
       "      <td>1.0</td>\n",
       "      <td>0.0</td>\n",
       "      <td>0.0</td>\n",
       "      <td>0.0</td>\n",
       "      <td>0.0</td>\n",
       "      <td>...</td>\n",
       "      <td>2.0</td>\n",
       "      <td>3.0</td>\n",
       "      <td>0.0</td>\n",
       "      <td>1.0</td>\n",
       "      <td>0.0</td>\n",
       "      <td>1.0</td>\n",
       "      <td>0.0</td>\n",
       "      <td>9.0</td>\n",
       "      <td>5.0</td>\n",
       "      <td>7.0</td>\n",
       "    </tr>\n",
       "    <tr>\n",
       "      <th>8</th>\n",
       "      <td>0.0</td>\n",
       "      <td>33.0</td>\n",
       "      <td>1.0</td>\n",
       "      <td>1.0</td>\n",
       "      <td>1.0</td>\n",
       "      <td>1.0</td>\n",
       "      <td>1.0</td>\n",
       "      <td>0.0</td>\n",
       "      <td>0.0</td>\n",
       "      <td>0.0</td>\n",
       "      <td>...</td>\n",
       "      <td>5.0</td>\n",
       "      <td>0.0</td>\n",
       "      <td>1.0</td>\n",
       "      <td>1.0</td>\n",
       "      <td>0.0</td>\n",
       "      <td>1.0</td>\n",
       "      <td>0.0</td>\n",
       "      <td>13.0</td>\n",
       "      <td>5.0</td>\n",
       "      <td>6.0</td>\n",
       "    </tr>\n",
       "    <tr>\n",
       "      <th>9</th>\n",
       "      <td>2.0</td>\n",
       "      <td>23.0</td>\n",
       "      <td>0.0</td>\n",
       "      <td>1.0</td>\n",
       "      <td>1.0</td>\n",
       "      <td>1.0</td>\n",
       "      <td>0.0</td>\n",
       "      <td>1.0</td>\n",
       "      <td>0.0</td>\n",
       "      <td>0.0</td>\n",
       "      <td>...</td>\n",
       "      <td>0.0</td>\n",
       "      <td>0.0</td>\n",
       "      <td>0.0</td>\n",
       "      <td>1.0</td>\n",
       "      <td>0.0</td>\n",
       "      <td>1.0</td>\n",
       "      <td>1.0</td>\n",
       "      <td>12.0</td>\n",
       "      <td>4.0</td>\n",
       "      <td>7.0</td>\n",
       "    </tr>\n",
       "  </tbody>\n",
       "</table>\n",
       "<p>5 rows × 23 columns</p>\n",
       "</div>"
      ],
      "text/plain": [
       "   Diabetes_Status   BMI  Obesity_Indicator  Hypertension  High_Cholesterol  \\\n",
       "2              0.0  22.0                0.0           1.0               1.0   \n",
       "4              2.0  26.0                1.0           1.0               0.0   \n",
       "5              0.0  30.0                1.0           1.0               1.0   \n",
       "8              0.0  33.0                1.0           1.0               1.0   \n",
       "9              2.0  23.0                0.0           1.0               1.0   \n",
       "\n",
       "   Cholesterol_Checked  Chronic_Kidney_Disease  Smoker_100_Cigarettes  \\\n",
       "2                  1.0                     0.0                    1.0   \n",
       "4                  1.0                     0.0                    0.0   \n",
       "5                  1.0                     0.0                    0.0   \n",
       "8                  1.0                     1.0                    0.0   \n",
       "9                  1.0                     0.0                    1.0   \n",
       "\n",
       "   Heavy_Alcohol_Consumption  Stroke  ...  Physical_Unhealthy_Days  \\\n",
       "2                        0.0     0.0  ...                      6.0   \n",
       "4                        0.0     0.0  ...                      0.0   \n",
       "5                        0.0     0.0  ...                      2.0   \n",
       "8                        0.0     0.0  ...                      5.0   \n",
       "9                        0.0     0.0  ...                      0.0   \n",
       "\n",
       "   Mental_Unhealthy_Days  Difficulty_Walking  Health_Care_Coverage  \\\n",
       "2                    2.0                 1.0                   1.0   \n",
       "4                    0.0                 1.0                   1.0   \n",
       "5                    3.0                 0.0                   1.0   \n",
       "8                    0.0                 1.0                   1.0   \n",
       "9                    0.0                 0.0                   1.0   \n",
       "\n",
       "   Doctor_Visit_Cost_Issue  Last_Checkup  Gender  Age_Group  Education_Level  \\\n",
       "2                      1.0           1.0     0.0       13.0              4.0   \n",
       "4                      0.0           1.0     0.0       12.0              5.0   \n",
       "5                      0.0           1.0     0.0        9.0              5.0   \n",
       "8                      0.0           1.0     0.0       13.0              5.0   \n",
       "9                      0.0           1.0     1.0       12.0              4.0   \n",
       "\n",
       "   Income_Level  \n",
       "2           2.0  \n",
       "4           7.0  \n",
       "5           7.0  \n",
       "8           6.0  \n",
       "9           7.0  \n",
       "\n",
       "[5 rows x 23 columns]"
      ]
     },
     "execution_count": 42,
     "metadata": {},
     "output_type": "execute_result"
    }
   ],
   "source": [
    "brfss.head()"
   ]
  },
  {
   "cell_type": "code",
   "execution_count": 43,
   "metadata": {},
   "outputs": [
    {
     "data": {
      "text/plain": [
       "(259851, 23)"
      ]
     },
     "execution_count": 43,
     "metadata": {},
     "output_type": "execute_result"
    }
   ],
   "source": [
    "brfss.shape"
   ]
  },
  {
   "cell_type": "code",
   "execution_count": 44,
   "metadata": {},
   "outputs": [
    {
     "data": {
      "text/plain": [
       "Diabetes_Status\n",
       "0.0    215430\n",
       "1.0      6512\n",
       "2.0     37909\n",
       "dtype: int64"
      ]
     },
     "execution_count": 44,
     "metadata": {},
     "output_type": "execute_result"
    }
   ],
   "source": [
    "#Check how many respondents have no diabetes, prediabetes or diabetes.\n",
    "brfss.groupby(['Diabetes_Status']).size()"
   ]
  },
  {
   "cell_type": "code",
   "execution_count": 45,
   "metadata": {},
   "outputs": [],
   "source": [
    "brfss.to_csv('diabetes_BRFSS2023.csv', sep=\",\", index=False)"
   ]
  },
  {
   "cell_type": "code",
   "execution_count": 46,
   "metadata": {},
   "outputs": [
    {
     "data": {
      "text/plain": [
       "array([0., 1.])"
      ]
     },
     "execution_count": 46,
     "metadata": {},
     "output_type": "execute_result"
    }
   ],
   "source": [
    "#Copy the old dataframe to a new one.\n",
    "brfss_binary = brfss\n",
    "'''Change:\n",
    "diabetic 2 to 1, pre-diabetic 1 to 0\n",
    "in order to have 0 for no diabetes and pre-diabetes and 1 for respondant has diabetes'''\n",
    "\n",
    "brfss_binary['Diabetes_Status'] = brfss_binary['Diabetes_Status'].replace({1:0, 2:1})\n",
    "\n",
    "#Rename the column to DiabetesBinary\n",
    "brfss_binary = brfss_binary.rename(columns = {'Diabetes_Status': 'Diabetes_binary'})\n",
    "brfss_binary.Diabetes_binary.unique()"
   ]
  },
  {
   "cell_type": "code",
   "execution_count": 47,
   "metadata": {},
   "outputs": [
    {
     "data": {
      "text/html": [
       "<div>\n",
       "<style scoped>\n",
       "    .dataframe tbody tr th:only-of-type {\n",
       "        vertical-align: middle;\n",
       "    }\n",
       "\n",
       "    .dataframe tbody tr th {\n",
       "        vertical-align: top;\n",
       "    }\n",
       "\n",
       "    .dataframe thead th {\n",
       "        text-align: right;\n",
       "    }\n",
       "</style>\n",
       "<table border=\"1\" class=\"dataframe\">\n",
       "  <thead>\n",
       "    <tr style=\"text-align: right;\">\n",
       "      <th></th>\n",
       "      <th>Diabetes_binary</th>\n",
       "      <th>BMI</th>\n",
       "      <th>Obesity_Indicator</th>\n",
       "      <th>Hypertension</th>\n",
       "      <th>High_Cholesterol</th>\n",
       "      <th>Cholesterol_Checked</th>\n",
       "      <th>Chronic_Kidney_Disease</th>\n",
       "      <th>Smoker_100_Cigarettes</th>\n",
       "      <th>Heavy_Alcohol_Consumption</th>\n",
       "      <th>Stroke</th>\n",
       "      <th>...</th>\n",
       "      <th>Physical_Unhealthy_Days</th>\n",
       "      <th>Mental_Unhealthy_Days</th>\n",
       "      <th>Difficulty_Walking</th>\n",
       "      <th>Health_Care_Coverage</th>\n",
       "      <th>Doctor_Visit_Cost_Issue</th>\n",
       "      <th>Last_Checkup</th>\n",
       "      <th>Gender</th>\n",
       "      <th>Age_Group</th>\n",
       "      <th>Education_Level</th>\n",
       "      <th>Income_Level</th>\n",
       "    </tr>\n",
       "  </thead>\n",
       "  <tbody>\n",
       "    <tr>\n",
       "      <th>2</th>\n",
       "      <td>0.0</td>\n",
       "      <td>22.0</td>\n",
       "      <td>0.0</td>\n",
       "      <td>1.0</td>\n",
       "      <td>1.0</td>\n",
       "      <td>1.0</td>\n",
       "      <td>0.0</td>\n",
       "      <td>1.0</td>\n",
       "      <td>0.0</td>\n",
       "      <td>0.0</td>\n",
       "      <td>...</td>\n",
       "      <td>6.0</td>\n",
       "      <td>2.0</td>\n",
       "      <td>1.0</td>\n",
       "      <td>1.0</td>\n",
       "      <td>1.0</td>\n",
       "      <td>1.0</td>\n",
       "      <td>0.0</td>\n",
       "      <td>13.0</td>\n",
       "      <td>4.0</td>\n",
       "      <td>2.0</td>\n",
       "    </tr>\n",
       "    <tr>\n",
       "      <th>4</th>\n",
       "      <td>1.0</td>\n",
       "      <td>26.0</td>\n",
       "      <td>1.0</td>\n",
       "      <td>1.0</td>\n",
       "      <td>0.0</td>\n",
       "      <td>1.0</td>\n",
       "      <td>0.0</td>\n",
       "      <td>0.0</td>\n",
       "      <td>0.0</td>\n",
       "      <td>0.0</td>\n",
       "      <td>...</td>\n",
       "      <td>0.0</td>\n",
       "      <td>0.0</td>\n",
       "      <td>1.0</td>\n",
       "      <td>1.0</td>\n",
       "      <td>0.0</td>\n",
       "      <td>1.0</td>\n",
       "      <td>0.0</td>\n",
       "      <td>12.0</td>\n",
       "      <td>5.0</td>\n",
       "      <td>7.0</td>\n",
       "    </tr>\n",
       "    <tr>\n",
       "      <th>5</th>\n",
       "      <td>0.0</td>\n",
       "      <td>30.0</td>\n",
       "      <td>1.0</td>\n",
       "      <td>1.0</td>\n",
       "      <td>1.0</td>\n",
       "      <td>1.0</td>\n",
       "      <td>0.0</td>\n",
       "      <td>0.0</td>\n",
       "      <td>0.0</td>\n",
       "      <td>0.0</td>\n",
       "      <td>...</td>\n",
       "      <td>2.0</td>\n",
       "      <td>3.0</td>\n",
       "      <td>0.0</td>\n",
       "      <td>1.0</td>\n",
       "      <td>0.0</td>\n",
       "      <td>1.0</td>\n",
       "      <td>0.0</td>\n",
       "      <td>9.0</td>\n",
       "      <td>5.0</td>\n",
       "      <td>7.0</td>\n",
       "    </tr>\n",
       "    <tr>\n",
       "      <th>8</th>\n",
       "      <td>0.0</td>\n",
       "      <td>33.0</td>\n",
       "      <td>1.0</td>\n",
       "      <td>1.0</td>\n",
       "      <td>1.0</td>\n",
       "      <td>1.0</td>\n",
       "      <td>1.0</td>\n",
       "      <td>0.0</td>\n",
       "      <td>0.0</td>\n",
       "      <td>0.0</td>\n",
       "      <td>...</td>\n",
       "      <td>5.0</td>\n",
       "      <td>0.0</td>\n",
       "      <td>1.0</td>\n",
       "      <td>1.0</td>\n",
       "      <td>0.0</td>\n",
       "      <td>1.0</td>\n",
       "      <td>0.0</td>\n",
       "      <td>13.0</td>\n",
       "      <td>5.0</td>\n",
       "      <td>6.0</td>\n",
       "    </tr>\n",
       "    <tr>\n",
       "      <th>9</th>\n",
       "      <td>1.0</td>\n",
       "      <td>23.0</td>\n",
       "      <td>0.0</td>\n",
       "      <td>1.0</td>\n",
       "      <td>1.0</td>\n",
       "      <td>1.0</td>\n",
       "      <td>0.0</td>\n",
       "      <td>1.0</td>\n",
       "      <td>0.0</td>\n",
       "      <td>0.0</td>\n",
       "      <td>...</td>\n",
       "      <td>0.0</td>\n",
       "      <td>0.0</td>\n",
       "      <td>0.0</td>\n",
       "      <td>1.0</td>\n",
       "      <td>0.0</td>\n",
       "      <td>1.0</td>\n",
       "      <td>1.0</td>\n",
       "      <td>12.0</td>\n",
       "      <td>4.0</td>\n",
       "      <td>7.0</td>\n",
       "    </tr>\n",
       "  </tbody>\n",
       "</table>\n",
       "<p>5 rows × 23 columns</p>\n",
       "</div>"
      ],
      "text/plain": [
       "   Diabetes_binary   BMI  Obesity_Indicator  Hypertension  High_Cholesterol  \\\n",
       "2              0.0  22.0                0.0           1.0               1.0   \n",
       "4              1.0  26.0                1.0           1.0               0.0   \n",
       "5              0.0  30.0                1.0           1.0               1.0   \n",
       "8              0.0  33.0                1.0           1.0               1.0   \n",
       "9              1.0  23.0                0.0           1.0               1.0   \n",
       "\n",
       "   Cholesterol_Checked  Chronic_Kidney_Disease  Smoker_100_Cigarettes  \\\n",
       "2                  1.0                     0.0                    1.0   \n",
       "4                  1.0                     0.0                    0.0   \n",
       "5                  1.0                     0.0                    0.0   \n",
       "8                  1.0                     1.0                    0.0   \n",
       "9                  1.0                     0.0                    1.0   \n",
       "\n",
       "   Heavy_Alcohol_Consumption  Stroke  ...  Physical_Unhealthy_Days  \\\n",
       "2                        0.0     0.0  ...                      6.0   \n",
       "4                        0.0     0.0  ...                      0.0   \n",
       "5                        0.0     0.0  ...                      2.0   \n",
       "8                        0.0     0.0  ...                      5.0   \n",
       "9                        0.0     0.0  ...                      0.0   \n",
       "\n",
       "   Mental_Unhealthy_Days  Difficulty_Walking  Health_Care_Coverage  \\\n",
       "2                    2.0                 1.0                   1.0   \n",
       "4                    0.0                 1.0                   1.0   \n",
       "5                    3.0                 0.0                   1.0   \n",
       "8                    0.0                 1.0                   1.0   \n",
       "9                    0.0                 0.0                   1.0   \n",
       "\n",
       "   Doctor_Visit_Cost_Issue  Last_Checkup  Gender  Age_Group  Education_Level  \\\n",
       "2                      1.0           1.0     0.0       13.0              4.0   \n",
       "4                      0.0           1.0     0.0       12.0              5.0   \n",
       "5                      0.0           1.0     0.0        9.0              5.0   \n",
       "8                      0.0           1.0     0.0       13.0              5.0   \n",
       "9                      0.0           1.0     1.0       12.0              4.0   \n",
       "\n",
       "   Income_Level  \n",
       "2           2.0  \n",
       "4           7.0  \n",
       "5           7.0  \n",
       "8           6.0  \n",
       "9           7.0  \n",
       "\n",
       "[5 rows x 23 columns]"
      ]
     },
     "execution_count": 47,
     "metadata": {},
     "output_type": "execute_result"
    }
   ],
   "source": [
    "brfss_binary.head()"
   ]
  },
  {
   "cell_type": "code",
   "execution_count": 48,
   "metadata": {},
   "outputs": [
    {
     "data": {
      "text/plain": [
       "Diabetes_binary\n",
       "0.0    221942\n",
       "1.0     37909\n",
       "dtype: int64"
      ]
     },
     "execution_count": 48,
     "metadata": {},
     "output_type": "execute_result"
    }
   ],
   "source": [
    "#Check size of class\n",
    "brfss_binary.groupby(['Diabetes_binary']).size()"
   ]
  },
  {
   "cell_type": "code",
   "execution_count": 49,
   "metadata": {},
   "outputs": [],
   "source": [
    "#Separate the Not Diabetes: 0s ;  Pre-diabetes and Diabetes: 1s, 2s\n",
    "#Get the 1s\n",
    "diabetes_mask = brfss_binary['Diabetes_binary'] == 1\n",
    "brfss_diabetes = brfss_binary[diabetes_mask]\n",
    "\n",
    "#Get the 0s\n",
    "no_diabetes_mask = brfss_binary['Diabetes_binary'] == 0\n",
    "brfss_no_diabetes = brfss_binary[no_diabetes_mask]\n",
    "\n",
    "'''Select 37909 random cases from the non-diabetes group i.e. 0\n",
    "we already have 37909 cases from the diabetes risk group'''\n",
    "brfss_no_diabetes_sampled = brfss_no_diabetes.take(np.random.permutation(len(brfss_no_diabetes))[:37909])\n",
    "\n",
    "# Append the 37909 1s(diabetes) to the 37909 randomly selected 0s(no diabetes)\n",
    "brfss_balanced = brfss_no_diabetes_sampled._append(brfss_diabetes, ignore_index=True)"
   ]
  },
  {
   "cell_type": "code",
   "execution_count": 50,
   "metadata": {},
   "outputs": [
    {
     "data": {
      "text/html": [
       "<div>\n",
       "<style scoped>\n",
       "    .dataframe tbody tr th:only-of-type {\n",
       "        vertical-align: middle;\n",
       "    }\n",
       "\n",
       "    .dataframe tbody tr th {\n",
       "        vertical-align: top;\n",
       "    }\n",
       "\n",
       "    .dataframe thead th {\n",
       "        text-align: right;\n",
       "    }\n",
       "</style>\n",
       "<table border=\"1\" class=\"dataframe\">\n",
       "  <thead>\n",
       "    <tr style=\"text-align: right;\">\n",
       "      <th></th>\n",
       "      <th>Diabetes_binary</th>\n",
       "      <th>BMI</th>\n",
       "      <th>Obesity_Indicator</th>\n",
       "      <th>Hypertension</th>\n",
       "      <th>High_Cholesterol</th>\n",
       "      <th>Cholesterol_Checked</th>\n",
       "      <th>Chronic_Kidney_Disease</th>\n",
       "      <th>Smoker_100_Cigarettes</th>\n",
       "      <th>Heavy_Alcohol_Consumption</th>\n",
       "      <th>Stroke</th>\n",
       "      <th>...</th>\n",
       "      <th>Physical_Unhealthy_Days</th>\n",
       "      <th>Mental_Unhealthy_Days</th>\n",
       "      <th>Difficulty_Walking</th>\n",
       "      <th>Health_Care_Coverage</th>\n",
       "      <th>Doctor_Visit_Cost_Issue</th>\n",
       "      <th>Last_Checkup</th>\n",
       "      <th>Gender</th>\n",
       "      <th>Age_Group</th>\n",
       "      <th>Education_Level</th>\n",
       "      <th>Income_Level</th>\n",
       "    </tr>\n",
       "  </thead>\n",
       "  <tbody>\n",
       "    <tr>\n",
       "      <th>0</th>\n",
       "      <td>0.0</td>\n",
       "      <td>28.0</td>\n",
       "      <td>1.0</td>\n",
       "      <td>0.0</td>\n",
       "      <td>1.0</td>\n",
       "      <td>1.0</td>\n",
       "      <td>0.0</td>\n",
       "      <td>0.0</td>\n",
       "      <td>0.0</td>\n",
       "      <td>0.0</td>\n",
       "      <td>...</td>\n",
       "      <td>0.0</td>\n",
       "      <td>0.0</td>\n",
       "      <td>0.0</td>\n",
       "      <td>1.0</td>\n",
       "      <td>0.0</td>\n",
       "      <td>1.0</td>\n",
       "      <td>1.0</td>\n",
       "      <td>10.0</td>\n",
       "      <td>6.0</td>\n",
       "      <td>7.0</td>\n",
       "    </tr>\n",
       "    <tr>\n",
       "      <th>1</th>\n",
       "      <td>0.0</td>\n",
       "      <td>26.0</td>\n",
       "      <td>1.0</td>\n",
       "      <td>0.0</td>\n",
       "      <td>0.0</td>\n",
       "      <td>1.0</td>\n",
       "      <td>0.0</td>\n",
       "      <td>0.0</td>\n",
       "      <td>0.0</td>\n",
       "      <td>0.0</td>\n",
       "      <td>...</td>\n",
       "      <td>0.0</td>\n",
       "      <td>0.0</td>\n",
       "      <td>0.0</td>\n",
       "      <td>0.0</td>\n",
       "      <td>1.0</td>\n",
       "      <td>4.0</td>\n",
       "      <td>0.0</td>\n",
       "      <td>5.0</td>\n",
       "      <td>2.0</td>\n",
       "      <td>5.0</td>\n",
       "    </tr>\n",
       "    <tr>\n",
       "      <th>2</th>\n",
       "      <td>0.0</td>\n",
       "      <td>38.0</td>\n",
       "      <td>1.0</td>\n",
       "      <td>1.0</td>\n",
       "      <td>1.0</td>\n",
       "      <td>1.0</td>\n",
       "      <td>0.0</td>\n",
       "      <td>0.0</td>\n",
       "      <td>0.0</td>\n",
       "      <td>0.0</td>\n",
       "      <td>...</td>\n",
       "      <td>0.0</td>\n",
       "      <td>0.0</td>\n",
       "      <td>0.0</td>\n",
       "      <td>1.0</td>\n",
       "      <td>0.0</td>\n",
       "      <td>1.0</td>\n",
       "      <td>0.0</td>\n",
       "      <td>10.0</td>\n",
       "      <td>5.0</td>\n",
       "      <td>5.0</td>\n",
       "    </tr>\n",
       "    <tr>\n",
       "      <th>3</th>\n",
       "      <td>0.0</td>\n",
       "      <td>22.0</td>\n",
       "      <td>0.0</td>\n",
       "      <td>0.0</td>\n",
       "      <td>0.0</td>\n",
       "      <td>1.0</td>\n",
       "      <td>0.0</td>\n",
       "      <td>0.0</td>\n",
       "      <td>0.0</td>\n",
       "      <td>0.0</td>\n",
       "      <td>...</td>\n",
       "      <td>0.0</td>\n",
       "      <td>2.0</td>\n",
       "      <td>0.0</td>\n",
       "      <td>1.0</td>\n",
       "      <td>0.0</td>\n",
       "      <td>1.0</td>\n",
       "      <td>0.0</td>\n",
       "      <td>5.0</td>\n",
       "      <td>6.0</td>\n",
       "      <td>9.0</td>\n",
       "    </tr>\n",
       "    <tr>\n",
       "      <th>4</th>\n",
       "      <td>0.0</td>\n",
       "      <td>22.0</td>\n",
       "      <td>0.0</td>\n",
       "      <td>0.0</td>\n",
       "      <td>0.0</td>\n",
       "      <td>1.0</td>\n",
       "      <td>0.0</td>\n",
       "      <td>1.0</td>\n",
       "      <td>0.0</td>\n",
       "      <td>0.0</td>\n",
       "      <td>...</td>\n",
       "      <td>0.0</td>\n",
       "      <td>0.0</td>\n",
       "      <td>0.0</td>\n",
       "      <td>1.0</td>\n",
       "      <td>0.0</td>\n",
       "      <td>1.0</td>\n",
       "      <td>1.0</td>\n",
       "      <td>8.0</td>\n",
       "      <td>6.0</td>\n",
       "      <td>10.0</td>\n",
       "    </tr>\n",
       "    <tr>\n",
       "      <th>...</th>\n",
       "      <td>...</td>\n",
       "      <td>...</td>\n",
       "      <td>...</td>\n",
       "      <td>...</td>\n",
       "      <td>...</td>\n",
       "      <td>...</td>\n",
       "      <td>...</td>\n",
       "      <td>...</td>\n",
       "      <td>...</td>\n",
       "      <td>...</td>\n",
       "      <td>...</td>\n",
       "      <td>...</td>\n",
       "      <td>...</td>\n",
       "      <td>...</td>\n",
       "      <td>...</td>\n",
       "      <td>...</td>\n",
       "      <td>...</td>\n",
       "      <td>...</td>\n",
       "      <td>...</td>\n",
       "      <td>...</td>\n",
       "      <td>...</td>\n",
       "    </tr>\n",
       "    <tr>\n",
       "      <th>75813</th>\n",
       "      <td>1.0</td>\n",
       "      <td>26.0</td>\n",
       "      <td>1.0</td>\n",
       "      <td>0.0</td>\n",
       "      <td>0.0</td>\n",
       "      <td>1.0</td>\n",
       "      <td>0.0</td>\n",
       "      <td>0.0</td>\n",
       "      <td>0.0</td>\n",
       "      <td>0.0</td>\n",
       "      <td>...</td>\n",
       "      <td>0.0</td>\n",
       "      <td>0.0</td>\n",
       "      <td>0.0</td>\n",
       "      <td>1.0</td>\n",
       "      <td>0.0</td>\n",
       "      <td>1.0</td>\n",
       "      <td>1.0</td>\n",
       "      <td>12.0</td>\n",
       "      <td>5.0</td>\n",
       "      <td>7.0</td>\n",
       "    </tr>\n",
       "    <tr>\n",
       "      <th>75814</th>\n",
       "      <td>1.0</td>\n",
       "      <td>33.0</td>\n",
       "      <td>1.0</td>\n",
       "      <td>1.0</td>\n",
       "      <td>0.0</td>\n",
       "      <td>1.0</td>\n",
       "      <td>0.0</td>\n",
       "      <td>0.0</td>\n",
       "      <td>0.0</td>\n",
       "      <td>0.0</td>\n",
       "      <td>...</td>\n",
       "      <td>3.0</td>\n",
       "      <td>0.0</td>\n",
       "      <td>0.0</td>\n",
       "      <td>1.0</td>\n",
       "      <td>0.0</td>\n",
       "      <td>1.0</td>\n",
       "      <td>1.0</td>\n",
       "      <td>9.0</td>\n",
       "      <td>6.0</td>\n",
       "      <td>10.0</td>\n",
       "    </tr>\n",
       "    <tr>\n",
       "      <th>75815</th>\n",
       "      <td>1.0</td>\n",
       "      <td>29.0</td>\n",
       "      <td>1.0</td>\n",
       "      <td>0.0</td>\n",
       "      <td>0.0</td>\n",
       "      <td>1.0</td>\n",
       "      <td>0.0</td>\n",
       "      <td>0.0</td>\n",
       "      <td>0.0</td>\n",
       "      <td>0.0</td>\n",
       "      <td>...</td>\n",
       "      <td>0.0</td>\n",
       "      <td>0.0</td>\n",
       "      <td>0.0</td>\n",
       "      <td>1.0</td>\n",
       "      <td>0.0</td>\n",
       "      <td>1.0</td>\n",
       "      <td>1.0</td>\n",
       "      <td>6.0</td>\n",
       "      <td>6.0</td>\n",
       "      <td>8.0</td>\n",
       "    </tr>\n",
       "    <tr>\n",
       "      <th>75816</th>\n",
       "      <td>1.0</td>\n",
       "      <td>26.0</td>\n",
       "      <td>1.0</td>\n",
       "      <td>1.0</td>\n",
       "      <td>1.0</td>\n",
       "      <td>1.0</td>\n",
       "      <td>0.0</td>\n",
       "      <td>0.0</td>\n",
       "      <td>0.0</td>\n",
       "      <td>0.0</td>\n",
       "      <td>...</td>\n",
       "      <td>0.0</td>\n",
       "      <td>0.0</td>\n",
       "      <td>0.0</td>\n",
       "      <td>1.0</td>\n",
       "      <td>0.0</td>\n",
       "      <td>1.0</td>\n",
       "      <td>0.0</td>\n",
       "      <td>11.0</td>\n",
       "      <td>2.0</td>\n",
       "      <td>2.0</td>\n",
       "    </tr>\n",
       "    <tr>\n",
       "      <th>75817</th>\n",
       "      <td>1.0</td>\n",
       "      <td>24.0</td>\n",
       "      <td>0.0</td>\n",
       "      <td>1.0</td>\n",
       "      <td>1.0</td>\n",
       "      <td>1.0</td>\n",
       "      <td>0.0</td>\n",
       "      <td>0.0</td>\n",
       "      <td>0.0</td>\n",
       "      <td>0.0</td>\n",
       "      <td>...</td>\n",
       "      <td>0.0</td>\n",
       "      <td>0.0</td>\n",
       "      <td>0.0</td>\n",
       "      <td>1.0</td>\n",
       "      <td>0.0</td>\n",
       "      <td>1.0</td>\n",
       "      <td>0.0</td>\n",
       "      <td>10.0</td>\n",
       "      <td>6.0</td>\n",
       "      <td>3.0</td>\n",
       "    </tr>\n",
       "  </tbody>\n",
       "</table>\n",
       "<p>75818 rows × 23 columns</p>\n",
       "</div>"
      ],
      "text/plain": [
       "       Diabetes_binary   BMI  Obesity_Indicator  Hypertension  \\\n",
       "0                  0.0  28.0                1.0           0.0   \n",
       "1                  0.0  26.0                1.0           0.0   \n",
       "2                  0.0  38.0                1.0           1.0   \n",
       "3                  0.0  22.0                0.0           0.0   \n",
       "4                  0.0  22.0                0.0           0.0   \n",
       "...                ...   ...                ...           ...   \n",
       "75813              1.0  26.0                1.0           0.0   \n",
       "75814              1.0  33.0                1.0           1.0   \n",
       "75815              1.0  29.0                1.0           0.0   \n",
       "75816              1.0  26.0                1.0           1.0   \n",
       "75817              1.0  24.0                0.0           1.0   \n",
       "\n",
       "       High_Cholesterol  Cholesterol_Checked  Chronic_Kidney_Disease  \\\n",
       "0                   1.0                  1.0                     0.0   \n",
       "1                   0.0                  1.0                     0.0   \n",
       "2                   1.0                  1.0                     0.0   \n",
       "3                   0.0                  1.0                     0.0   \n",
       "4                   0.0                  1.0                     0.0   \n",
       "...                 ...                  ...                     ...   \n",
       "75813               0.0                  1.0                     0.0   \n",
       "75814               0.0                  1.0                     0.0   \n",
       "75815               0.0                  1.0                     0.0   \n",
       "75816               1.0                  1.0                     0.0   \n",
       "75817               1.0                  1.0                     0.0   \n",
       "\n",
       "       Smoker_100_Cigarettes  Heavy_Alcohol_Consumption  Stroke  ...  \\\n",
       "0                        0.0                        0.0     0.0  ...   \n",
       "1                        0.0                        0.0     0.0  ...   \n",
       "2                        0.0                        0.0     0.0  ...   \n",
       "3                        0.0                        0.0     0.0  ...   \n",
       "4                        1.0                        0.0     0.0  ...   \n",
       "...                      ...                        ...     ...  ...   \n",
       "75813                    0.0                        0.0     0.0  ...   \n",
       "75814                    0.0                        0.0     0.0  ...   \n",
       "75815                    0.0                        0.0     0.0  ...   \n",
       "75816                    0.0                        0.0     0.0  ...   \n",
       "75817                    0.0                        0.0     0.0  ...   \n",
       "\n",
       "       Physical_Unhealthy_Days  Mental_Unhealthy_Days  Difficulty_Walking  \\\n",
       "0                          0.0                    0.0                 0.0   \n",
       "1                          0.0                    0.0                 0.0   \n",
       "2                          0.0                    0.0                 0.0   \n",
       "3                          0.0                    2.0                 0.0   \n",
       "4                          0.0                    0.0                 0.0   \n",
       "...                        ...                    ...                 ...   \n",
       "75813                      0.0                    0.0                 0.0   \n",
       "75814                      3.0                    0.0                 0.0   \n",
       "75815                      0.0                    0.0                 0.0   \n",
       "75816                      0.0                    0.0                 0.0   \n",
       "75817                      0.0                    0.0                 0.0   \n",
       "\n",
       "       Health_Care_Coverage  Doctor_Visit_Cost_Issue  Last_Checkup  Gender  \\\n",
       "0                       1.0                      0.0           1.0     1.0   \n",
       "1                       0.0                      1.0           4.0     0.0   \n",
       "2                       1.0                      0.0           1.0     0.0   \n",
       "3                       1.0                      0.0           1.0     0.0   \n",
       "4                       1.0                      0.0           1.0     1.0   \n",
       "...                     ...                      ...           ...     ...   \n",
       "75813                   1.0                      0.0           1.0     1.0   \n",
       "75814                   1.0                      0.0           1.0     1.0   \n",
       "75815                   1.0                      0.0           1.0     1.0   \n",
       "75816                   1.0                      0.0           1.0     0.0   \n",
       "75817                   1.0                      0.0           1.0     0.0   \n",
       "\n",
       "       Age_Group  Education_Level  Income_Level  \n",
       "0           10.0              6.0           7.0  \n",
       "1            5.0              2.0           5.0  \n",
       "2           10.0              5.0           5.0  \n",
       "3            5.0              6.0           9.0  \n",
       "4            8.0              6.0          10.0  \n",
       "...          ...              ...           ...  \n",
       "75813       12.0              5.0           7.0  \n",
       "75814        9.0              6.0          10.0  \n",
       "75815        6.0              6.0           8.0  \n",
       "75816       11.0              2.0           2.0  \n",
       "75817       10.0              6.0           3.0  \n",
       "\n",
       "[75818 rows x 23 columns]"
      ]
     },
     "execution_count": 50,
     "metadata": {},
     "output_type": "execute_result"
    }
   ],
   "source": [
    "#Now we have a dataset of 75818 rows that is equally balanced with 50% 1s and 50% 0s for the target variable Diabetes_binary\n",
    "brfss_balanced"
   ]
  },
  {
   "cell_type": "code",
   "execution_count": 51,
   "metadata": {},
   "outputs": [
    {
     "data": {
      "text/plain": [
       "Diabetes_binary\n",
       "0.0    37909\n",
       "1.0    37909\n",
       "dtype: int64"
      ]
     },
     "execution_count": 51,
     "metadata": {},
     "output_type": "execute_result"
    }
   ],
   "source": [
    "#See the perfectly balanced class\n",
    "brfss_balanced.groupby(['Diabetes_binary']).size()"
   ]
  },
  {
   "cell_type": "code",
   "execution_count": 52,
   "metadata": {},
   "outputs": [
    {
     "name": "stdout",
     "output_type": "stream",
     "text": [
      "brfss_5050=(75818, 23) brfss_binary=(259851, 23)\n"
     ]
    }
   ],
   "source": [
    "print(f'brfss_5050={brfss_balanced.shape}',f'brfss_binary={brfss_binary.shape}')"
   ]
  },
  {
   "cell_type": "code",
   "execution_count": 53,
   "metadata": {},
   "outputs": [],
   "source": [
    "#Binary imbalanced dataset (cleaned)\n",
    "# 2nd save version\n",
    "brfss_binary.to_csv('diabetes_binary_BRFSS2023.csv', sep=\",\", index=False)"
   ]
  },
  {
   "cell_type": "code",
   "execution_count": 54,
   "metadata": {},
   "outputs": [],
   "source": [
    "#Binary balanced dataset (cleaned)\n",
    "# 3rd save version\n",
    "brfss_balanced.to_csv('diabetes_binary_5050split_BRFSS2023.csv', sep=\",\", index=False)"
   ]
  },
  {
   "cell_type": "code",
   "execution_count": 55,
   "metadata": {},
   "outputs": [
    {
     "data": {
      "text/html": [
       "<div>\n",
       "<style scoped>\n",
       "    .dataframe tbody tr th:only-of-type {\n",
       "        vertical-align: middle;\n",
       "    }\n",
       "\n",
       "    .dataframe tbody tr th {\n",
       "        vertical-align: top;\n",
       "    }\n",
       "\n",
       "    .dataframe thead th {\n",
       "        text-align: right;\n",
       "    }\n",
       "</style>\n",
       "<table border=\"1\" class=\"dataframe\">\n",
       "  <thead>\n",
       "    <tr style=\"text-align: right;\">\n",
       "      <th></th>\n",
       "      <th>Diabetes_binary</th>\n",
       "      <th>BMI</th>\n",
       "      <th>Obesity_Indicator</th>\n",
       "      <th>Hypertension</th>\n",
       "      <th>High_Cholesterol</th>\n",
       "      <th>Cholesterol_Checked</th>\n",
       "      <th>Chronic_Kidney_Disease</th>\n",
       "      <th>Smoker_100_Cigarettes</th>\n",
       "      <th>Heavy_Alcohol_Consumption</th>\n",
       "      <th>Stroke</th>\n",
       "      <th>...</th>\n",
       "      <th>Physical_Unhealthy_Days</th>\n",
       "      <th>Mental_Unhealthy_Days</th>\n",
       "      <th>Difficulty_Walking</th>\n",
       "      <th>Health_Care_Coverage</th>\n",
       "      <th>Doctor_Visit_Cost_Issue</th>\n",
       "      <th>Last_Checkup</th>\n",
       "      <th>Gender</th>\n",
       "      <th>Age_Group</th>\n",
       "      <th>Education_Level</th>\n",
       "      <th>Income_Level</th>\n",
       "    </tr>\n",
       "  </thead>\n",
       "  <tbody>\n",
       "    <tr>\n",
       "      <th>0</th>\n",
       "      <td>0.0</td>\n",
       "      <td>22.0</td>\n",
       "      <td>0.0</td>\n",
       "      <td>1.0</td>\n",
       "      <td>1.0</td>\n",
       "      <td>1.0</td>\n",
       "      <td>0.0</td>\n",
       "      <td>1.0</td>\n",
       "      <td>0.0</td>\n",
       "      <td>0.0</td>\n",
       "      <td>...</td>\n",
       "      <td>6.0</td>\n",
       "      <td>2.0</td>\n",
       "      <td>1.0</td>\n",
       "      <td>1.0</td>\n",
       "      <td>1.0</td>\n",
       "      <td>1.0</td>\n",
       "      <td>0.0</td>\n",
       "      <td>13.0</td>\n",
       "      <td>4.0</td>\n",
       "      <td>2.0</td>\n",
       "    </tr>\n",
       "    <tr>\n",
       "      <th>1</th>\n",
       "      <td>1.0</td>\n",
       "      <td>26.0</td>\n",
       "      <td>1.0</td>\n",
       "      <td>1.0</td>\n",
       "      <td>0.0</td>\n",
       "      <td>1.0</td>\n",
       "      <td>0.0</td>\n",
       "      <td>0.0</td>\n",
       "      <td>0.0</td>\n",
       "      <td>0.0</td>\n",
       "      <td>...</td>\n",
       "      <td>0.0</td>\n",
       "      <td>0.0</td>\n",
       "      <td>1.0</td>\n",
       "      <td>1.0</td>\n",
       "      <td>0.0</td>\n",
       "      <td>1.0</td>\n",
       "      <td>0.0</td>\n",
       "      <td>12.0</td>\n",
       "      <td>5.0</td>\n",
       "      <td>7.0</td>\n",
       "    </tr>\n",
       "    <tr>\n",
       "      <th>2</th>\n",
       "      <td>0.0</td>\n",
       "      <td>30.0</td>\n",
       "      <td>1.0</td>\n",
       "      <td>1.0</td>\n",
       "      <td>1.0</td>\n",
       "      <td>1.0</td>\n",
       "      <td>0.0</td>\n",
       "      <td>0.0</td>\n",
       "      <td>0.0</td>\n",
       "      <td>0.0</td>\n",
       "      <td>...</td>\n",
       "      <td>2.0</td>\n",
       "      <td>3.0</td>\n",
       "      <td>0.0</td>\n",
       "      <td>1.0</td>\n",
       "      <td>0.0</td>\n",
       "      <td>1.0</td>\n",
       "      <td>0.0</td>\n",
       "      <td>9.0</td>\n",
       "      <td>5.0</td>\n",
       "      <td>7.0</td>\n",
       "    </tr>\n",
       "    <tr>\n",
       "      <th>3</th>\n",
       "      <td>0.0</td>\n",
       "      <td>33.0</td>\n",
       "      <td>1.0</td>\n",
       "      <td>1.0</td>\n",
       "      <td>1.0</td>\n",
       "      <td>1.0</td>\n",
       "      <td>1.0</td>\n",
       "      <td>0.0</td>\n",
       "      <td>0.0</td>\n",
       "      <td>0.0</td>\n",
       "      <td>...</td>\n",
       "      <td>5.0</td>\n",
       "      <td>0.0</td>\n",
       "      <td>1.0</td>\n",
       "      <td>1.0</td>\n",
       "      <td>0.0</td>\n",
       "      <td>1.0</td>\n",
       "      <td>0.0</td>\n",
       "      <td>13.0</td>\n",
       "      <td>5.0</td>\n",
       "      <td>6.0</td>\n",
       "    </tr>\n",
       "    <tr>\n",
       "      <th>4</th>\n",
       "      <td>1.0</td>\n",
       "      <td>23.0</td>\n",
       "      <td>0.0</td>\n",
       "      <td>1.0</td>\n",
       "      <td>1.0</td>\n",
       "      <td>1.0</td>\n",
       "      <td>0.0</td>\n",
       "      <td>1.0</td>\n",
       "      <td>0.0</td>\n",
       "      <td>0.0</td>\n",
       "      <td>...</td>\n",
       "      <td>0.0</td>\n",
       "      <td>0.0</td>\n",
       "      <td>0.0</td>\n",
       "      <td>1.0</td>\n",
       "      <td>0.0</td>\n",
       "      <td>1.0</td>\n",
       "      <td>1.0</td>\n",
       "      <td>12.0</td>\n",
       "      <td>4.0</td>\n",
       "      <td>7.0</td>\n",
       "    </tr>\n",
       "  </tbody>\n",
       "</table>\n",
       "<p>5 rows × 23 columns</p>\n",
       "</div>"
      ],
      "text/plain": [
       "   Diabetes_binary   BMI  Obesity_Indicator  Hypertension  High_Cholesterol  \\\n",
       "0              0.0  22.0                0.0           1.0               1.0   \n",
       "1              1.0  26.0                1.0           1.0               0.0   \n",
       "2              0.0  30.0                1.0           1.0               1.0   \n",
       "3              0.0  33.0                1.0           1.0               1.0   \n",
       "4              1.0  23.0                0.0           1.0               1.0   \n",
       "\n",
       "   Cholesterol_Checked  Chronic_Kidney_Disease  Smoker_100_Cigarettes  \\\n",
       "0                  1.0                     0.0                    1.0   \n",
       "1                  1.0                     0.0                    0.0   \n",
       "2                  1.0                     0.0                    0.0   \n",
       "3                  1.0                     1.0                    0.0   \n",
       "4                  1.0                     0.0                    1.0   \n",
       "\n",
       "   Heavy_Alcohol_Consumption  Stroke  ...  Physical_Unhealthy_Days  \\\n",
       "0                        0.0     0.0  ...                      6.0   \n",
       "1                        0.0     0.0  ...                      0.0   \n",
       "2                        0.0     0.0  ...                      2.0   \n",
       "3                        0.0     0.0  ...                      5.0   \n",
       "4                        0.0     0.0  ...                      0.0   \n",
       "\n",
       "   Mental_Unhealthy_Days  Difficulty_Walking  Health_Care_Coverage  \\\n",
       "0                    2.0                 1.0                   1.0   \n",
       "1                    0.0                 1.0                   1.0   \n",
       "2                    3.0                 0.0                   1.0   \n",
       "3                    0.0                 1.0                   1.0   \n",
       "4                    0.0                 0.0                   1.0   \n",
       "\n",
       "   Doctor_Visit_Cost_Issue  Last_Checkup  Gender  Age_Group  Education_Level  \\\n",
       "0                      1.0           1.0     0.0       13.0              4.0   \n",
       "1                      0.0           1.0     0.0       12.0              5.0   \n",
       "2                      0.0           1.0     0.0        9.0              5.0   \n",
       "3                      0.0           1.0     0.0       13.0              5.0   \n",
       "4                      0.0           1.0     1.0       12.0              4.0   \n",
       "\n",
       "   Income_Level  \n",
       "0           2.0  \n",
       "1           7.0  \n",
       "2           7.0  \n",
       "3           6.0  \n",
       "4           7.0  \n",
       "\n",
       "[5 rows x 23 columns]"
      ]
     },
     "execution_count": 55,
     "metadata": {},
     "output_type": "execute_result"
    }
   ],
   "source": [
    "# Load the datasets\n",
    "df_binary = pd.read_csv('diabetes_binary_BRFSS2023.csv')\n",
    "df_5050 = pd.read_csv('diabetes_binary_5050split_BRFSS2023.csv')\n",
    "\n",
    "# Display the first few rows of each dataset\n",
    "df_binary.head()#, df_5050.head()"
   ]
  },
  {
   "cell_type": "code",
   "execution_count": 56,
   "metadata": {},
   "outputs": [
    {
     "name": "stdout",
     "output_type": "stream",
     "text": [
      "<class 'pandas.core.frame.DataFrame'>\n",
      "RangeIndex: 259851 entries, 0 to 259850\n",
      "Data columns (total 23 columns):\n",
      " #   Column                     Non-Null Count   Dtype  \n",
      "---  ------                     --------------   -----  \n",
      " 0   Diabetes_binary            259851 non-null  float64\n",
      " 1   BMI                        259851 non-null  float64\n",
      " 2   Obesity_Indicator          259851 non-null  float64\n",
      " 3   Hypertension               259851 non-null  float64\n",
      " 4   High_Cholesterol           259851 non-null  float64\n",
      " 5   Cholesterol_Checked        259851 non-null  float64\n",
      " 6   Chronic_Kidney_Disease     259851 non-null  float64\n",
      " 7   Smoker_100_Cigarettes      259851 non-null  float64\n",
      " 8   Heavy_Alcohol_Consumption  259851 non-null  float64\n",
      " 9   Stroke                     259851 non-null  float64\n",
      " 10  Heart_Disease              259851 non-null  float64\n",
      " 11  Physical_Activity          259851 non-null  float64\n",
      " 12  General_Health             259851 non-null  float64\n",
      " 13  Physical_Unhealthy_Days    259851 non-null  float64\n",
      " 14  Mental_Unhealthy_Days      259851 non-null  float64\n",
      " 15  Difficulty_Walking         259851 non-null  float64\n",
      " 16  Health_Care_Coverage       259851 non-null  float64\n",
      " 17  Doctor_Visit_Cost_Issue    259851 non-null  float64\n",
      " 18  Last_Checkup               259851 non-null  float64\n",
      " 19  Gender                     259851 non-null  float64\n",
      " 20  Age_Group                  259851 non-null  float64\n",
      " 21  Education_Level            259851 non-null  float64\n",
      " 22  Income_Level               259851 non-null  float64\n",
      "dtypes: float64(23)\n",
      "memory usage: 45.6 MB\n"
     ]
    },
    {
     "data": {
      "text/plain": [
       "(None,\n",
       "        Diabetes_binary            BMI  Obesity_Indicator   Hypertension  \\\n",
       " count    259851.000000  259851.000000      259851.000000  259851.000000   \n",
       " mean          0.145887      28.823195           0.713647       0.430274   \n",
       " std           0.352994       6.517380           0.452057       0.495115   \n",
       " min           0.000000      12.000000           0.000000       0.000000   \n",
       " 25%           0.000000      24.000000           0.000000       0.000000   \n",
       " 50%           0.000000      28.000000           1.000000       0.000000   \n",
       " 75%           0.000000      32.000000           1.000000       1.000000   \n",
       " max           1.000000     100.000000           1.000000       1.000000   \n",
       " \n",
       "        High_Cholesterol  Cholesterol_Checked  Chronic_Kidney_Disease  \\\n",
       " count     259851.000000        259851.000000           259851.000000   \n",
       " mean           0.420776             0.965904                0.049228   \n",
       " std            0.493685             0.181477                0.216345   \n",
       " min            0.000000             0.000000                0.000000   \n",
       " 25%            0.000000             1.000000                0.000000   \n",
       " 50%            0.000000             1.000000                0.000000   \n",
       " 75%            1.000000             1.000000                0.000000   \n",
       " max            1.000000             1.000000                1.000000   \n",
       " \n",
       "        Smoker_100_Cigarettes  Heavy_Alcohol_Consumption         Stroke  ...  \\\n",
       " count          259851.000000              259851.000000  259851.000000  ...   \n",
       " mean                0.396131                   0.063259       0.041947  ...   \n",
       " std                 0.489093                   0.243429       0.200469  ...   \n",
       " min                 0.000000                   0.000000       0.000000  ...   \n",
       " 25%                 0.000000                   0.000000       0.000000  ...   \n",
       " 50%                 0.000000                   0.000000       0.000000  ...   \n",
       " 75%                 1.000000                   0.000000       0.000000  ...   \n",
       " max                 1.000000                   1.000000       1.000000  ...   \n",
       " \n",
       "        Physical_Unhealthy_Days  Mental_Unhealthy_Days  Difficulty_Walking  \\\n",
       " count            259851.000000          259851.000000       259851.000000   \n",
       " mean                  4.381723               4.168423            0.152076   \n",
       " std                   8.678167               8.042449            0.359095   \n",
       " min                   0.000000               0.000000            0.000000   \n",
       " 25%                   0.000000               0.000000            0.000000   \n",
       " 50%                   0.000000               0.000000            0.000000   \n",
       " 75%                   4.000000               4.000000            0.000000   \n",
       " max                  30.000000              30.000000            1.000000   \n",
       " \n",
       "        Health_Care_Coverage  Doctor_Visit_Cost_Issue   Last_Checkup  \\\n",
       " count         259851.000000            259851.000000  259851.000000   \n",
       " mean               0.963464                 0.072807       1.262916   \n",
       " std                0.187621                 0.259820       0.691115   \n",
       " min                0.000000                 0.000000       1.000000   \n",
       " 25%                1.000000                 0.000000       1.000000   \n",
       " 50%                1.000000                 0.000000       1.000000   \n",
       " 75%                1.000000                 0.000000       1.000000   \n",
       " max                1.000000                 1.000000       5.000000   \n",
       " \n",
       "               Gender      Age_Group  Education_Level   Income_Level  \n",
       " count  259851.000000  259851.000000    259851.000000  259851.000000  \n",
       " mean        0.483408       7.992226         5.167015       7.197902  \n",
       " std         0.499726       3.331480         0.944357       2.381545  \n",
       " min         0.000000       1.000000         1.000000       1.000000  \n",
       " 25%         0.000000       5.000000         4.000000       6.000000  \n",
       " 50%         0.000000       8.000000         5.000000       7.000000  \n",
       " 75%         1.000000      11.000000         6.000000       9.000000  \n",
       " max         1.000000      13.000000         6.000000      11.000000  \n",
       " \n",
       " [8 rows x 23 columns])"
      ]
     },
     "execution_count": 56,
     "metadata": {},
     "output_type": "execute_result"
    }
   ],
   "source": [
    "df_binary.info(), df_binary.describe()"
   ]
  },
  {
   "cell_type": "code",
   "execution_count": 57,
   "metadata": {},
   "outputs": [],
   "source": [
    "#df_5050.info(), df_5050.describe()"
   ]
  },
  {
   "cell_type": "code",
   "execution_count": 58,
   "metadata": {},
   "outputs": [
    {
     "data": {
      "image/png": "[encoded data removed]",
      "text/plain": [
       "<Figure size 2100x900 with 2 Axes>"
      ]
     },
     "metadata": {},
     "output_type": "display_data"
    }
   ],
   "source": [
    "# Correlation heatmap for df_binary\n",
    "numeric_df_binary = df_binary.select_dtypes(include=[np.number])\n",
    "plt.figure(figsize=(21, 9))\n",
    "sns.heatmap(numeric_df_binary.corr(), annot=True, cmap='coolwarm', fmt='.2f')\n",
    "plt.title('Correlation Heatmap for df_binary')\n",
    "plt.show()"
   ]
  },
  {
   "cell_type": "code",
   "execution_count": 59,
   "metadata": {},
   "outputs": [
    {
     "name": "stdout",
     "output_type": "stream",
     "text": [
      "Correlations with diabetes_binary:\n",
      "Diabetes_binary              1.000000\n",
      "General_Health               0.265843\n",
      "Hypertension                 0.254714\n",
      "Difficulty_Walking           0.206021\n",
      "BMI                          0.192920\n",
      "Age_Group                    0.191139\n",
      "High_Cholesterol             0.190220\n",
      "Chronic_Kidney_Disease       0.169107\n",
      "Heart_Disease                0.166962\n",
      "Physical_Unhealthy_Days      0.153050\n",
      "Obesity_Indicator            0.135037\n",
      "Stroke                       0.101741\n",
      "Cholesterol_Checked          0.066536\n",
      "Smoker_100_Cigarettes        0.055460\n",
      "Gender                       0.033869\n",
      "Mental_Unhealthy_Days        0.032832\n",
      "Health_Care_Coverage         0.028766\n",
      "Doctor_Visit_Cost_Issue      0.004866\n",
      "Heavy_Alcohol_Consumption   -0.059569\n",
      "Education_Level             -0.104586\n",
      "Last_Checkup                -0.116178\n",
      "Income_Level                -0.146649\n",
      "Physical_Activity           -0.152722\n",
      "Name: Diabetes_binary, dtype: float64\n"
     ]
    }
   ],
   "source": [
    "target_correlations = numeric_df_binary.corr()['Diabetes_binary'].sort_values(ascending=False)\n",
    "print(\"Correlations with diabetes_binary:\")\n",
    "print(target_correlations)"
   ]
  },
  {
   "cell_type": "code",
   "execution_count": 60,
   "metadata": {},
   "outputs": [
    {
     "name": "stdout",
     "output_type": "stream",
     "text": [
      "Top 5 Features Correlated with Diabetes_binary:\n",
      "General_Health: 0.27\n",
      "Hypertension: 0.25\n",
      "Difficulty_Walking: 0.21\n",
      "BMI: 0.19\n",
      "Age_Group: 0.19\n"
     ]
    }
   ],
   "source": [
    "# Exclude the target variable itself and select the top 5\n",
    "top_5_features = target_correlations.index[1:6]  # Skip the first index (target variable itself)\n",
    "top_5_values = target_correlations[1:6]\n",
    "\n",
    "# Display the results\n",
    "print(\"Top 5 Features Correlated with Diabetes_binary:\")\n",
    "for feature, value in zip(top_5_features, top_5_values):\n",
    "    print(f\"{feature}: {value:.2f}\")"
   ]
  },
  {
   "cell_type": "code",
   "execution_count": 61,
   "metadata": {},
   "outputs": [
    {
     "name": "stdout",
     "output_type": "stream",
     "text": [
      "Variance Inflation Factor (VIF) for Top 5 Features:\n",
      "              Feature        VIF\n",
      "0               const  32.794860\n",
      "1      General_Health   1.287496\n",
      "2        Hypertension   1.245694\n",
      "3  Difficulty_Walking   1.271063\n",
      "4                 BMI   1.123622\n",
      "5           Age_Group   1.206208\n"
     ]
    }
   ],
   "source": [
    "from statsmodels.stats.outliers_influence import variance_inflation_factor\n",
    "import statsmodels.api as sm\n",
    "\n",
    "# Prepare the DataFrame with the top 5 features\n",
    "X_top5 = df_binary[top_5_features]\n",
    "\n",
    "# Add a constant for the intercept\n",
    "X_top5 = sm.add_constant(X_top5)\n",
    "\n",
    "# Calculate VIF for each feature\n",
    "vif_data = pd.DataFrame({\n",
    "    \"Feature\": X_top5.columns,\n",
    "    \"VIF\": [variance_inflation_factor(X_top5.values, i) for i in range(X_top5.shape[1])]\n",
    "})\n",
    "\n",
    "# Display VIF\n",
    "print(\"Variance Inflation Factor (VIF) for Top 5 Features:\")\n",
    "print(vif_data)"
   ]
  },
  {
   "cell_type": "code",
   "execution_count": 62,
   "metadata": {},
   "outputs": [
    {
     "name": "stdout",
     "output_type": "stream",
     "text": [
      "Optimization terminated successfully.\n",
      "         Current function value: 0.344487\n",
      "         Iterations 7\n",
      "                           Logit Regression Results                           \n",
      "==============================================================================\n",
      "Dep. Variable:        Diabetes_binary   No. Observations:               259851\n",
      "Model:                          Logit   Df Residuals:                   259845\n",
      "Method:                           MLE   Df Model:                            5\n",
      "Date:                Wed, 18 Dec 2024   Pseudo R-squ.:                  0.1709\n",
      "Time:                        22:05:43   Log-Likelihood:                -89515.\n",
      "converged:                       True   LL-Null:                   -1.0797e+05\n",
      "Covariance Type:            nonrobust   LLR p-value:                     0.000\n",
      "======================================================================================\n",
      "                         coef    std err          z      P>|z|      [0.025      0.975]\n",
      "--------------------------------------------------------------------------------------\n",
      "const                 -6.9371      0.043   -163.105      0.000      -7.020      -6.854\n",
      "General_Health         0.5347      0.007     79.802      0.000       0.522       0.548\n",
      "Hypertension           0.8777      0.014     64.580      0.000       0.851       0.904\n",
      "Difficulty_Walking     0.1472      0.015      9.560      0.000       0.117       0.177\n",
      "BMI                    0.0584      0.001     65.246      0.000       0.057       0.060\n",
      "Age_Group              0.1566      0.002     66.665      0.000       0.152       0.161\n",
      "======================================================================================\n"
     ]
    }
   ],
   "source": [
    "X = df_binary[top_5_features]\n",
    "y = df_binary['Diabetes_binary']  # Dependent variable\n",
    "\n",
    "# Add a constant for the intercept\n",
    "X_with_constant = sm.add_constant(X)\n",
    "\n",
    "# Logistic Regression Model\n",
    "logit_model = sm.Logit(y, X_with_constant)\n",
    "result = logit_model.fit()\n",
    "\n",
    "# Print the summary\n",
    "print(result.summary())"
   ]
  },
  {
   "cell_type": "code",
   "execution_count": 63,
   "metadata": {},
   "outputs": [
    {
     "name": "stdout",
     "output_type": "stream",
     "text": [
      "T-statistic: 140.5729299970335\n",
      "p-value: 0.0\n",
      "The mean General_Health differs significantly between Diabetes_binary groups.\n"
     ]
    }
   ],
   "source": [
    "from sklearn.feature_selection import chi2\n",
    "from scipy.stats import chi2_contingency, ttest_ind\n",
    "\n",
    "diabetes_group = df_binary[df_binary['Diabetes_binary'] == 1]['General_Health']\n",
    "no_diabetes_group = df_binary[df_binary['Diabetes_binary'] == 0]['General_Health']\n",
    "\n",
    "# Perform T-Test\n",
    "t_stat, p_val = ttest_ind(diabetes_group, no_diabetes_group)\n",
    "\n",
    "# Print results\n",
    "print(\"T-statistic:\", t_stat)\n",
    "print(\"p-value:\", p_val)\n",
    "\n",
    "# Interpret Results\n",
    "if p_val < 0.05:\n",
    "    print(\"The mean General_Health differs significantly between Diabetes_binary groups.\")\n",
    "else:\n",
    "    print(\"No significant difference in General_Health between Diabetes_binary groups.\")"
   ]
  },
  {
   "cell_type": "code",
   "execution_count": 64,
   "metadata": {},
   "outputs": [
    {
     "name": "stdout",
     "output_type": "stream",
     "text": [
      "Chi-Square Statistic: 16857.48092012533\n",
      "p-value: 0.0\n",
      "There is a significant association between Diabetes_Status and Hypertension.\n"
     ]
    }
   ],
   "source": [
    "contingency_table = pd.crosstab(df_binary['Diabetes_binary'], df_binary['Hypertension'])\n",
    "\n",
    "# Perform Chi-Square Test\n",
    "chi2, p, dof, expected = chi2_contingency(contingency_table)\n",
    "\n",
    "# Print results\n",
    "print(\"Chi-Square Statistic:\", chi2)\n",
    "print(\"p-value:\", p)\n",
    "\n",
    "# Interpret Results\n",
    "if p < 0.05:\n",
    "    print(\"There is a significant association between Diabetes_Status and Hypertension.\")\n",
    "else:\n",
    "    print(\"No significant association between Diabetes_Status and Hypertension.\")"
   ]
  },
  {
   "cell_type": "code",
   "execution_count": 65,
   "metadata": {},
   "outputs": [
    {
     "name": "stdout",
     "output_type": "stream",
     "text": [
      "Chi-Square Statistic: 10324.63839397841\n",
      "p-value: 0.0\n",
      "There is a significant association between Diabetes_Status and Age_Group.\n"
     ]
    }
   ],
   "source": [
    "contingency_table = pd.crosstab(df_binary['Diabetes_binary'], df_binary['Age_Group'])\n",
    "\n",
    "# Perform Chi-Square Test\n",
    "chi2, p, dof, expected = chi2_contingency(contingency_table)\n",
    "\n",
    "# Print results\n",
    "print(\"Chi-Square Statistic:\", chi2)\n",
    "print(\"p-value:\", p)\n",
    "\n",
    "# Interpret Results\n",
    "if p < 0.05:\n",
    "    print(\"There is a significant association between Diabetes_Status and Age_Group.\")\n",
    "else:\n",
    "    print(\"No significant association between Diabetes_Status and Age_Group.\")"
   ]
  },
  {
   "cell_type": "code",
   "execution_count": 66,
   "metadata": {},
   "outputs": [
    {
     "name": "stdout",
     "output_type": "stream",
     "text": [
      "Chi-Square Statistic: 9401.247543868925\n",
      "p-value: 0.0\n",
      "There is a significant association between Diabetes_Status and High_Cholesterol.\n"
     ]
    }
   ],
   "source": [
    "contingency_table = pd.crosstab(df_binary['Diabetes_binary'], df_binary['High_Cholesterol'])\n",
    "\n",
    "# Perform Chi-Square Test\n",
    "chi2, p, dof, expected = chi2_contingency(contingency_table)\n",
    "\n",
    "# Print results\n",
    "print(\"Chi-Square Statistic:\", chi2)\n",
    "print(\"p-value:\", p)\n",
    "\n",
    "# Interpret Results\n",
    "if p < 0.05:\n",
    "    print(\"There is a significant association between Diabetes_Status and High_Cholesterol.\")\n",
    "else:\n",
    "    print(\"No significant association between Diabetes_Status and High_Cholesterol.\")"
   ]
  },
  {
   "cell_type": "code",
   "execution_count": 67,
   "metadata": {},
   "outputs": [
    {
     "name": "stdout",
     "output_type": "stream",
     "text": [
      "T-statistic: 100.224505243112\n",
      "p-value: 0.0\n",
      "The mean BMI differs significantly between Diabetes_binary groups.\n"
     ]
    }
   ],
   "source": [
    "# Example: Test mean BMI difference between Diabetes_Status groups\n",
    "diabetes_group = df_binary[df_binary['Diabetes_binary'] == 1]['BMI']\n",
    "no_diabetes_group = df_binary[df_binary['Diabetes_binary'] == 0]['BMI']\n",
    "\n",
    "# Perform T-Test\n",
    "t_stat, p_val = ttest_ind(diabetes_group, no_diabetes_group)\n",
    "\n",
    "# Print results\n",
    "print(\"T-statistic:\", t_stat)\n",
    "print(\"p-value:\", p_val)\n",
    "\n",
    "# Interpret Results\n",
    "if p_val < 0.05:\n",
    "    print(\"The mean BMI differs significantly between Diabetes_binary groups.\")\n",
    "else:\n",
    "    print(\"No significant difference in BMI between Diabetes_binary groups.\")"
   ]
  },
  {
   "cell_type": "code",
   "execution_count": 68,
   "metadata": {
    "jupyter": {
     "source_hidden": true
    }
   },
   "outputs": [
    {
     "name": "stdout",
     "output_type": "stream",
     "text": [
      "Features Selected by RFE: Index(['General_Health', 'Hypertension', 'Difficulty_Walking', 'BMI',\n",
      "       'Age_Group'],\n",
      "      dtype='object')\n"
     ]
    }
   ],
   "source": [
    "from sklearn.feature_selection import RFE\n",
    "from sklearn.linear_model import LogisticRegression\n",
    "\n",
    "# Ensure the dataset and variables are correctly defined\n",
    "# Assuming `df_5050` contains the balanced dataset\n",
    "# `top_5_features` are the features selected based on correlation analysis\n",
    "\n",
    "# Initialize the logistic regression model\n",
    "model = LogisticRegression(max_iter=1000)  # Ensure convergence for complex datasets\n",
    "\n",
    "# Perform RFE to select the best 5 features\n",
    "rfe = RFE(estimator=model, n_features_to_select=5)\n",
    "rfe.fit(df_5050[top_5_features], df_5050['Diabetes_binary'])\n",
    "\n",
    "# Display selected features\n",
    "selected_features_rfe = df_5050[top_5_features].columns[rfe.support_]\n",
    "print(\"Features Selected by RFE:\", selected_features_rfe)"
   ]
  },
  {
   "cell_type": "code",
   "execution_count": 69,
   "metadata": {},
   "outputs": [
    {
     "name": "stdout",
     "output_type": "stream",
     "text": [
      "Accuracy: 0.7268530730677921\n",
      "Classification Report:\n",
      "               precision    recall  f1-score   support\n",
      "\n",
      "         0.0       0.73      0.71      0.72      7554\n",
      "         1.0       0.72      0.75      0.73      7610\n",
      "\n",
      "    accuracy                           0.73     15164\n",
      "   macro avg       0.73      0.73      0.73     15164\n",
      "weighted avg       0.73      0.73      0.73     15164\n",
      "\n"
     ]
    }
   ],
   "source": [
    "# Use the final set of features (selected by RFE or based on VIF analysis)\n",
    "final_features = selected_features_rfe # Alternatively, use manually selected features\n",
    "\n",
    "# Split data into training and testing sets\n",
    "from sklearn.model_selection import train_test_split\n",
    "X = df_5050[final_features]\n",
    "y = df_5050['Diabetes_binary']\n",
    "\n",
    "X_train, X_test, y_train, y_test = train_test_split(X, y, test_size=0.2, random_state=42)\n",
    "\n",
    "# Train a logistic regression model\n",
    "model_final = LogisticRegression()\n",
    "model_final.fit(X_train, y_train)\n",
    "\n",
    "# Evaluate the model\n",
    "from sklearn.metrics import accuracy_score, classification_report\n",
    "y_pred = model_final.predict(X_test)\n",
    "print(\"Accuracy:\", accuracy_score(y_test, y_pred))\n",
    "print(\"Classification Report:\\n\", classification_report(y_test, y_pred))"
   ]
  },
  {
   "cell_type": "code",
   "execution_count": null,
   "metadata": {},
   "outputs": [],
   "source": []
  }
 ],
 "metadata": {
  "kernelspec": {
   "display_name": "Python 3",
   "language": "python",
   "name": "python3"
  },
  "language_info": {
   "codemirror_mode": {
    "name": "ipython",
    "version": 3
   },
   "file_extension": ".py",
   "mimetype": "text/x-python",
   "name": "python",
   "nbconvert_exporter": "python",
   "pygments_lexer": "ipython3",
   "version": "3.13.0"
  }
 },
 "nbformat": 4,
 "nbformat_minor": 4
}
