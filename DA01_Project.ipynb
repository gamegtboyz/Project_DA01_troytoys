{
 "cells": [
  {
   "cell_type": "code",
   "execution_count": null,
   "metadata": {},
   "outputs": [
    {
     "name": "stderr",
     "output_type": "stream",
     "text": [
      "/opt/anaconda3/lib/python3.12/site-packages/pandas/io/sas/sas_xport.py:475: PerformanceWarning: DataFrame is highly fragmented.  This is usually the result of calling `frame.insert` many times, which has poor performance.  Consider joining all columns at once using pd.concat(axis=1) instead.  To get a de-fragmented frame, use `newframe = frame.copy()`\n",
      "  df[x] = v\n"
     ]
    }
   ],
   "source": [
    "#Import Libraries\n",
    "\n",
    "import os\n",
    "import pandas as pd # data processing, CSV file I/O (e.g. pd.read_csv)\n",
    "import numpy as np # linear algebra\n",
    "import random\n",
    "import matplotlib.pyplot as plt\n",
    "import seaborn as sns\n",
    "random.seed(1)\n",
    "\n",
    "\n",
    "# Load the SAS XPT file\n",
    "data = pd.read_sas(\"/Users/troytoy/Downloads/LLCP2023.XPT\", format=\"xport\")\n"
   ]
  },
  {
   "cell_type": "code",
   "execution_count": null,
   "metadata": {},
   "outputs": [],
   "source": [
    "# Select specific columns for processing\n",
    "brfss_df_selected = data[['DIABETE4',        # Diagnosed with diabetes status (Yes/No/Borderline)\n",
    "                          '_BMI5',          # Body Mass Index (BMI) calculated\n",
    "                          '_RFBMI5',        # Risk factor for obesity (BMI > 30)\n",
    "                          '_RFHYPE6',       # Hypertension status (Yes/No)\n",
    "                          'TOLDHI3',        # High cholesterol diagnosis (Yes/No)\n",
    "                          '_CHOLCH3',       # Cholesterol checked in past 5 years\n",
    "                          'CHCKDNY2',       # Chronic kidney disease diagnosis (Yes/No)\n",
    "                          'SMOKE100',       # Smoked 100 cigarettes in lifetime (Yes/No)\n",
    "                          '_RFDRHV8',       # Heavy alcohol drinking status\n",
    "                          'CVDSTRK3',       # Ever had a stroke (Yes/No)\n",
    "                          '_MICHD',         # Ever had myocardial infarction (Yes/No)\n",
    "                          '_TOTINDA',       # Total physical activity indicator (Active/Inactive)\n",
    "                          'GENHLTH',        # General health status (Excellent to Poor)\n",
    "                          'PHYSHLTH',       # Number of physically unhealthy days in the past 30 days\n",
    "                          'MENTHLTH',       # Number of mentally unhealthy days in the past 30 days\n",
    "                          'DIFFWALK',       # Difficulty walking or climbing stairs (Yes/No)\n",
    "                          '_HLTHPL1',       # Has any health care coverage (Yes/No)\n",
    "                          'MEDCOST1',       # Couldn't see a doctor due to cost (Yes/No)\n",
    "                          'CHECKUP1',       # Last routine check-up time frame\n",
    "                          '_SEX',           # Sex of respondent (Male/Female)\n",
    "                          '_AGEG5YR',       # Age group (5-year intervals)\n",
    "                          'EDUCA',          # Education level\n",
    "                          'INCOME3']]       # Income level"
   ]
  },
  {
   "cell_type": "code",
   "execution_count": null,
   "metadata": {},
   "outputs": [],
   "source": [
    "\n",
    "#check how many rows and columns are left\n",
    "brfss_df_selected.shape"
   ]
  },
  {
   "cell_type": "code",
   "execution_count": null,
   "metadata": {},
   "outputs": [],
   "source": [
    "brfss_df_selected.head()"
   ]
  },
  {
   "cell_type": "code",
   "execution_count": null,
   "metadata": {},
   "outputs": [],
   "source": [
    "#Drop missing values from the datafame - knocks 100,000 rows right away\n",
    "brfss_df_selected = brfss_df_selected.dropna()\n",
    "brfss_df_selected.shape"
   ]
  },
  {
   "cell_type": "code",
   "execution_count": null,
   "metadata": {},
   "outputs": [],
   "source": [
    "# DIABETE4 : Diabetes Awareness\n",
    "\n",
    "'''Making this ordinal. Set :\n",
    "0 for no diabetes or for only during pregnancy, \n",
    "1 for pre-diabetes or borderline diabetes, \n",
    "2 is for yes diabetes. '''\n",
    "# Remove all 7 (don't knows)\n",
    "# remove all 9 (refused to answer)\n",
    "\n",
    "brfss_df_selected['DIABETE4'] = brfss_df_selected['DIABETE4'].replace({2:0, 3:0, 1:2, 4:1})\n",
    "#remove rows where the value of the column DIABETE4 is equal to 7 and 9.\n",
    "brfss_df_selected = brfss_df_selected[brfss_df_selected.DIABETE4 != 7]\n",
    "brfss_df_selected = brfss_df_selected[brfss_df_selected.DIABETE4 != 9]\n",
    "# verify the effectiveness of the filtering operations by displaying the remaining unique values\n",
    "brfss_df_selected.DIABETE4.unique()"
   ]
  },
  {
   "cell_type": "code",
   "execution_count": null,
   "metadata": {},
   "outputs": [],
   "source": [
    "#Check the shape of the dataset now: We have 234951 cleaned rows and 25 columns (1 of which is our dependent variable)\n",
    "brfss_df_selected.shape"
   ]
  },
  {
   "cell_type": "code",
   "execution_count": null,
   "metadata": {},
   "outputs": [],
   "source": [
    "#Check how the data looks after Modifying Values\n",
    "brfss_df_selected.head()"
   ]
  },
  {
   "cell_type": "code",
   "execution_count": null,
   "metadata": {},
   "outputs": [],
   "source": [
    "#Check the size of each class for the diabetes column\n",
    "brfss_df_selected.groupby(['DIABETE4']).size()"
   ]
  },
  {
   "cell_type": "code",
   "execution_count": null,
   "metadata": {},
   "outputs": [],
   "source": [
    "#remane column\n",
    "brfss = brfss_df_selected.rename(columns={\n",
    "    'DIABETE4': 'Diabetes_Status',          # Diabetes awareness (No/Pre-diabetes/Diabetes)\n",
    "    '_BMI5': 'BMI',                         # Body Mass Index\n",
    "    '_RFBMI5': 'Obesity_Indicator',         # Obesity indicator (BMI >= 30)\n",
    "    '_RFHYPE6': 'Hypertension',             # Hypertension diagnosis\n",
    "    'TOLDHI3': 'High_Cholesterol',          # High cholesterol diagnosis\n",
    "    '_CHOLCH3': 'Cholesterol_Checked',      # Cholesterol checked in the past 5 years\n",
    "    'CHCKDNY2': 'Chronic_Kidney_Disease',   # Chronic kidney disease diagnosis\n",
    "    'SMOKE100': 'Smoker_100_Cigarettes',    # Smoked at least 100 cigarettes in lifetime\n",
    "    '_RFDRHV8': 'Heavy_Alcohol_Consumption',# Heavy alcohol consumption\n",
    "    'CVDSTRK3': 'Stroke',                   # Stroke diagnosis\n",
    "    '_MICHD': 'Heart_Disease',              # Coronary heart disease or heart attack\n",
    "    '_TOTINDA': 'Physical_Activity',        # Physical activity indicator\n",
    "    'GENHLTH': 'General_Health',            # Self-rated general health status\n",
    "    'PHYSHLTH': 'Physical_Unhealthy_Days',  # Number of physically unhealthy days\n",
    "    'MENTHLTH': 'Mental_Unhealthy_Days',    # Number of mentally unhealthy days\n",
    "    'DIFFWALK': 'Difficulty_Walking',       # Difficulty walking or climbing stairs\n",
    "    '_HLTHPL1': 'Health_Care_Coverage',     # Health care coverage indicator\n",
    "    'MEDCOST1': 'Doctor_Visit_Cost_Issue',  # Could not see doctor due to cost\n",
    "    'CHECKUP1': 'Last_Checkup',             # Last routine check-up timeframe\n",
    "    '_SEX': 'Gender',                       # Gender (Male/Female)\n",
    "    '_AGEG5YR': 'Age_Group',                # Age group in 5-year intervals\n",
    "    'EDUCA': 'Education_Level',             # Education level\n",
    "    'INCOME3': 'Income_Level'               # Annual income level\n",
    "})\n",
    "print(\"Renamed Columns:\")\n",
    "print(brfss.columns)"
   ]
  },
  {
   "cell_type": "code",
   "execution_count": null,
   "metadata": {},
   "outputs": [],
   "source": [
    "brfss.head()"
   ]
  },
  {
   "cell_type": "code",
   "execution_count": null,
   "metadata": {},
   "outputs": [],
   "source": [
    "brfss.shape"
   ]
  },
  {
   "cell_type": "code",
   "execution_count": null,
   "metadata": {},
   "outputs": [],
   "source": [
    "#Check how many respondents have no diabetes, prediabetes or diabetes.\n",
    "brfss.groupby(['Diabetes_Status']).size()"
   ]
  },
  {
   "cell_type": "code",
   "execution_count": null,
   "metadata": {},
   "outputs": [],
   "source": [
    "brfss.to_csv('diabetes_BRFSS2023.csv', sep=\",\", index=False)"
   ]
  },
  {
   "cell_type": "code",
   "execution_count": null,
   "metadata": {},
   "outputs": [],
   "source": [
    "# Copy the old dataframe to a new one\n",
    "brfss_binary = brfss.copy()\n",
    "\n",
    "'''Change:\n",
    "Diabetic (2) to 1, Pre-diabetic (1) to 0\n",
    "to have 0 for no diabetes and pre-diabetes, and 1 for diabetes.'''\n",
    "brfss_binary['Diabetes_Status'] = brfss_binary['Diabetes_Status'].replace({1: 0, 2: 1})\n",
    "\n",
    "# Rename the column to Diabetes_binary\n",
    "brfss_binary = brfss_binary.rename(columns={'Diabetes_Status': 'Diabetes_binary'})\n",
    "\n",
    "# Check unique values in the updated Diabetes_binary column\n",
    "print(\"Unique values in Diabetes_binary column:\")\n",
    "print(brfss_binary.Diabetes_binary.unique())"
   ]
  },
  {
   "cell_type": "code",
   "execution_count": null,
   "metadata": {},
   "outputs": [],
   "source": [
    "#1 _BMI5 : Body mass index \n",
    "# BMI values are BMI * 100 (i.e. BMI of 1850 is really 18.50)\n",
    "# Divide BMI by 100 and round them to the nearest whole number.\n",
    "\n",
    "brfss_df_selected['_BMI5'] = brfss_df_selected['_BMI5'].div(100).round(0)\n",
    "brfss_df_selected._BMI5.unique()"
   ]
  },
  {
   "cell_type": "code",
   "execution_count": null,
   "metadata": {},
   "outputs": [],
   "source": [
    "#2 _RFBMI5 : Body mass index(BMI) greater than 25.00 (Overweight or Obese)\n",
    "'''Change 1 to 0 for not overweight and obese(1200 <= BMI < 2500)\n",
    "2 to 1 for yes overweight or obese'''\n",
    "# Remove all 9 (don't knows and refused to answer)\n",
    "\n",
    "brfss_df_selected['_RFBMI5'] = brfss_df_selected['_RFBMI5'].replace({1:0, 2:1})\n",
    "brfss_df_selected = brfss_df_selected[brfss_df_selected._RFBMI5 != 9]\n",
    "brfss_df_selected._RFBMI5.unique()"
   ]
  },
  {
   "cell_type": "code",
   "execution_count": null,
   "metadata": {},
   "outputs": [],
   "source": [
    "#3 _RFHYPE6 : High Blood Pressure Awareness\n",
    "'''Change :\n",
    "1 to 0 for no high blood pressure, \n",
    "2 to 1 for high blood pressure'''\n",
    "# Remove all 9 (don't knows and refused to answer)\n",
    "\n",
    "brfss_df_selected['_RFHYPE6'] = brfss_df_selected['_RFHYPE6'].replace({1:0, 2:1})\n",
    "brfss_df_selected = brfss_df_selected[brfss_df_selected._RFHYPE6 != 9]\n",
    "brfss_df_selected._RFHYPE6.unique()"
   ]
  },
  {
   "cell_type": "code",
   "execution_count": null,
   "metadata": {},
   "outputs": [],
   "source": [
    "#4 TOLDHI3 : Cholesterol Awareness\n",
    "'''It has 1 for high cholesterol\n",
    "only change 2 to 0 for no high cholesterol'''\n",
    "# Remove all 7 and 9 (don't knows and refused to answer)\n",
    "\n",
    "brfss_df_selected['TOLDHI3'] = brfss_df_selected['TOLDHI3'].replace({2:0})\n",
    "brfss_df_selected = brfss_df_selected[brfss_df_selected.TOLDHI3 != 7]\n",
    "brfss_df_selected = brfss_df_selected[brfss_df_selected.TOLDHI3 != 9]\n",
    "brfss_df_selected.TOLDHI3.unique()"
   ]
  },
  {
   "cell_type": "code",
   "execution_count": null,
   "metadata": {},
   "outputs": [],
   "source": [
    "#5 _CHOLCH3 : Cholesterol check within past five years\n",
    "'''It has 1 for cholesterol checked in past 5 years,\n",
    "change and 2,3 to 0 for not checked cholesterol in past 5 years'''\n",
    "# Remove all 7 and 9 (don't knows and refused to answer)\n",
    "\n",
    "# Replace values in '_CHOLCH3' column according to mappings\n",
    "brfss_df_selected['_CHOLCH3'] = brfss_df_selected['_CHOLCH3'].replace({2: 0, 3: 0})\n",
    "brfss_df_selected = brfss_df_selected[brfss_df_selected._CHOLCH3 != 7]\n",
    "brfss_df_selected = brfss_df_selected[brfss_df_selected._CHOLCH3 != 9]\n",
    "brfss_df_selected._CHOLCH3.unique()"
   ]
  },
  {
   "cell_type": "code",
   "execution_count": null,
   "metadata": {},
   "outputs": [],
   "source": [
    "#6 CHCKDNY2 : Unable to control urine flow or kidney disease\n",
    "'''It has 1 for yes uncontrollable urine flow\n",
    "change 2 to 0 for no kidney disease (normal urine flow)'''\n",
    "# Remove all 7 and 9 (don't knows and refused to answer)\n",
    "\n",
    "brfss_df_selected['CHCKDNY2'] = brfss_df_selected['CHCKDNY2'].replace({2: 0})\n",
    "brfss_df_selected = brfss_df_selected[brfss_df_selected.CHCKDNY2 != 7]\n",
    "brfss_df_selected = brfss_df_selected[brfss_df_selected.CHCKDNY2 != 9]\n",
    "brfss_df_selected.CHCKDNY2.unique()"
   ]
  },
  {
   "cell_type": "code",
   "execution_count": null,
   "metadata": {},
   "outputs": [],
   "source": [
    "#7 SMOKE100 : Smoked at least 100 Cigarettes\n",
    "'''It has 1 for yes smoked\n",
    "change 2 to 0 for not smoked'''\n",
    "# Remove all 7 and 9 (don't knows and refused to answer)\n",
    "\n",
    "brfss_df_selected['SMOKE100'] = brfss_df_selected['SMOKE100'].replace({2:0})\n",
    "brfss_df_selected = brfss_df_selected[brfss_df_selected.SMOKE100 != 7]\n",
    "brfss_df_selected = brfss_df_selected[brfss_df_selected.SMOKE100 != 9]\n",
    "brfss_df_selected.SMOKE100.unique()"
   ]
  },
  {
   "cell_type": "code",
   "execution_count": null,
   "metadata": {},
   "outputs": [],
   "source": [
    "# 8. _RFDRHV8 : Heavy Alcohol Consumption\n",
    "'''\n",
    "Making this binary:\n",
    "0 for not a heavy drinker,\n",
    "1 for heavy drinker.\n",
    "'''\n",
    "# Remove all 9 (don't knows and refused to answer)\n",
    "brfss_df_selected['_RFDRHV8'] = brfss_df_selected['_RFDRHV8'].replace({2:1, 1:0})\n",
    "\n",
    "# Remove rows where the value of _RFDRHV8 is equal to 9 (Don't Know/Refused/Missing)\n",
    "brfss_df_selected = brfss_df_selected[brfss_df_selected['_RFDRHV8'] != 9]\n",
    "\n",
    "# Verify the effectiveness of the filtering by displaying the remaining unique values\n",
    "print(\"Unique values in _RFDRHV8 after transformation:\")\n",
    "print(brfss_df_selected['_RFDRHV8'].unique())"
   ]
  },
  {
   "cell_type": "code",
   "execution_count": null,
   "metadata": {},
   "outputs": [],
   "source": [
    "#9 CVDSTRK3 : Chronic health conditions\n",
    "'''It has 1 for yes respondant has had a stroke\n",
    "only change 2 to 0 for no'''\n",
    "# Remove all 7 and 9 (don't knows and refused to answer)\n",
    "\n",
    "brfss_df_selected['CVDSTRK3'] = brfss_df_selected['CVDSTRK3'].replace({2:0})\n",
    "brfss_df_selected = brfss_df_selected[brfss_df_selected.CVDSTRK3 != 7]\n",
    "brfss_df_selected = brfss_df_selected[brfss_df_selected.CVDSTRK3 != 9]\n",
    "brfss_df_selected.CVDSTRK3.unique()"
   ]
  },
  {
   "cell_type": "code",
   "execution_count": null,
   "metadata": {},
   "outputs": [],
   "source": [
    "#10 _MICHD : Ever has Coronary Heart Disease (CHD) or Myocardial Infarction(MI)\n",
    "'''It has 1 for yes respondant has CHD or MI\n",
    "Change 2 to 0 for respondant does not have CHD or MI'''\n",
    "brfss_df_selected['_MICHD'] = brfss_df_selected['_MICHD'].replace({2: 0})\n",
    "brfss_df_selected._MICHD.unique()"
   ]
  },
  {
   "cell_type": "code",
   "execution_count": null,
   "metadata": {},
   "outputs": [],
   "source": [
    "#11 _TOTINDA : Does physical activity or exercise\n",
    "'''It has 1 for yes respondant does physical activity or excercise\n",
    "Change 2 to 0 for not involved in any physical activity or excercise'''\n",
    "# Remove all 9 (don't knows and refused to answer)\n",
    "\n",
    "brfss_df_selected['_TOTINDA'] = brfss_df_selected['_TOTINDA'].replace({2: 0})\n",
    "brfss_df_selected = brfss_df_selected[brfss_df_selected._TOTINDA != 9]\n",
    "brfss_df_selected._TOTINDA.unique()"
   ]
  },
  {
   "cell_type": "code",
   "execution_count": null,
   "metadata": {},
   "outputs": [],
   "source": [
    "#12 GENHLTH : Genreal Health Status\n",
    "'''This is an ordinal column which will remain as it is\n",
    "(1 = Excellent, 2 = Very good, 3 = Good, 4 = Fair, 5 = Poor)'''\n",
    "# Remove all 7 and 9 (don't knows and refused to answer)\n",
    "\n",
    "brfss_df_selected = brfss_df_selected[brfss_df_selected.GENHLTH != 7]\n",
    "brfss_df_selected = brfss_df_selected[brfss_df_selected.GENHLTH != 9]\n",
    "brfss_df_selected.GENHLTH.unique()"
   ]
  },
  {
   "cell_type": "code",
   "execution_count": null,
   "metadata": {},
   "outputs": [],
   "source": [
    "# 13 PHYSHLTH : Number of days Physical Health is good\n",
    "'''It has a scale of 0-30 days for good physical health days\n",
    "change 88 to 0 for no as repondant has bad health days'''\n",
    "# Remove all 77 and 99 (don't knows and refused to answer)\n",
    "\n",
    "brfss_df_selected['PHYSHLTH'] = brfss_df_selected['PHYSHLTH'].replace({88:0})\n",
    "brfss_df_selected = brfss_df_selected[brfss_df_selected.PHYSHLTH != 77]\n",
    "brfss_df_selected = brfss_df_selected[brfss_df_selected.PHYSHLTH != 99]\n",
    "brfss_df_selected.PHYSHLTH.unique()"
   ]
  },
  {
   "cell_type": "code",
   "execution_count": null,
   "metadata": {},
   "outputs": [],
   "source": [
    "#14 MENTHLTH : Number of days Mental Health is not good\n",
    "'''It has a scale of 0-30 days for bad mental health days\n",
    "change 88 to 0 for no as repondant has no bad mental health days(good mental health days)'''\n",
    "# Remove all 77 and 99 (don't knows and refused to answer)\n",
    "\n",
    "brfss_df_selected['MENTHLTH'] = brfss_df_selected['MENTHLTH'].replace({88:0})\n",
    "brfss_df_selected = brfss_df_selected[brfss_df_selected.MENTHLTH != 77]\n",
    "brfss_df_selected = brfss_df_selected[brfss_df_selected.MENTHLTH != 99]\n",
    "brfss_df_selected.MENTHLTH.unique()"
   ]
  },
  {
   "cell_type": "code",
   "execution_count": null,
   "metadata": {},
   "outputs": [],
   "source": [
    "#15 DIFFWALK : Difficulty Walking or climbing stairs\n",
    "'''It has 1 for yes difficulty walking or climbing stairs\n",
    "change 2 to 0 for no difficulty walking or climbing stairs'''\n",
    "# Remove all 7 and 9 (don't knows and refused to answer)\n",
    "\n",
    "brfss_df_selected['DIFFWALK'] = brfss_df_selected['DIFFWALK'].replace({2:0})\n",
    "brfss_df_selected = brfss_df_selected[brfss_df_selected.DIFFWALK != 7]\n",
    "brfss_df_selected = brfss_df_selected[brfss_df_selected.DIFFWALK != 9]\n",
    "brfss_df_selected.DIFFWALK.unique()"
   ]
  },
  {
   "cell_type": "code",
   "execution_count": null,
   "metadata": {},
   "outputs": [],
   "source": [
    "#16 _HLTHPL1 : Have any health care access or insurance\n",
    "'''It has 1 for yes respondant has health care access\n",
    "change 2 to 0 for no health care access'''\n",
    "# Remove all 7 and 9 (don't knows and refused to answer)\n",
    "\n",
    "brfss_df_selected['_HLTHPL1'] = brfss_df_selected['_HLTHPL1'].replace({2:0})\n",
    "brfss_df_selected = brfss_df_selected[brfss_df_selected._HLTHPL1 != 7]\n",
    "brfss_df_selected = brfss_df_selected[brfss_df_selected._HLTHPL1 != 9]\n",
    "brfss_df_selected._HLTHPL1.unique()"
   ]
  },
  {
   "cell_type": "code",
   "execution_count": null,
   "metadata": {},
   "outputs": [],
   "source": [
    "#17 MEDCOST1 : Couldn't afford to see a doctor\n",
    "'''It has 1 for yes \n",
    "change 2 to 0 for no couldn't afford to see a doctor when needed'''\n",
    "# Remove all 7 and 9 (don't knows and refused to answer)\n",
    "\n",
    "brfss_df_selected['MEDCOST1'] = brfss_df_selected['MEDCOST1'].replace({2:0})\n",
    "brfss_df_selected = brfss_df_selected[brfss_df_selected.MEDCOST1 != 7]\n",
    "brfss_df_selected = brfss_df_selected[brfss_df_selected.MEDCOST1 != 9]\n",
    "brfss_df_selected.MEDCOST1.unique()"
   ]
  },
  {
   "cell_type": "code",
   "execution_count": null,
   "metadata": {},
   "outputs": [],
   "source": [
    "#18 CHECKUP1 : Last routine check up\n",
    "'''It is already an ordinal column with:\n",
    "1 = Within past year (anytime less than 12 months ago)\n",
    "2 = Within past 2 years (1 year but less than 2 years ago)\n",
    "3 = Within past 5 years (2 years but less than 5 years ago)\n",
    "4 = 5 or more years ago\n",
    "Change 8 to 5 for Never'''\n",
    "# Remove all 7 and 9 (don't knows and refused to answer)\n",
    "\n",
    "brfss_df_selected['CHECKUP1'] = brfss_df_selected['CHECKUP1'].replace({8:5})\n",
    "brfss_df_selected = brfss_df_selected[brfss_df_selected.CHECKUP1 != 7]\n",
    "brfss_df_selected = brfss_df_selected[brfss_df_selected.CHECKUP1 != 9]\n",
    "brfss_df_selected.CHECKUP1.unique()"
   ]
  },
  {
   "cell_type": "code",
   "execution_count": null,
   "metadata": {},
   "outputs": [],
   "source": [
    "#19 _SEX : Respondant's SEX\n",
    "'''Set 0 for female (change 2 to 0)\n",
    "and 1 for male because men comparatively are at higher risk for heart disease'''\n",
    "brfss_df_selected['_SEX'] = brfss_df_selected['_SEX'].replace({2:0})\n",
    "brfss_df_selected._SEX.unique()"
   ]
  },
  {
   "cell_type": "code",
   "execution_count": null,
   "metadata": {},
   "outputs": [],
   "source": [
    "#20 _AGEG5YR : Reported age in five-year age categories\n",
    "'''It is already ordinal with 5 year interval\n",
    "It starts with 1 for age 18-24 all the way to 13 for 80 years and older'''\n",
    "# Remove 14 for missing and don't know values\n",
    "\n",
    "brfss_df_selected = brfss_df_selected[brfss_df_selected._AGEG5YR != 14]\n",
    "brfss_df_selected._AGEG5YR.unique()"
   ]
  },
  {
   "cell_type": "code",
   "execution_count": null,
   "metadata": {},
   "outputs": [],
   "source": [
    "#21 EDUCA : Education Level\n",
    "'''It is an ordinal column with: \n",
    "1 = never attended education(school or kindergarten)\n",
    "2 = Elementary school\n",
    "3 = Some high school\n",
    "4 = Grade 12 or GED (High school graduate)\n",
    "5 = College 1 year to 3 years (Some college or technical school)\n",
    "6 = college graduate(4 years or more)'''\n",
    "# Remove all 9 (refused to answer)\n",
    "\n",
    "brfss_df_selected = brfss_df_selected[brfss_df_selected.EDUCA != 9]\n",
    "brfss_df_selected.EDUCA.unique()"
   ]
  },
  {
   "cell_type": "code",
   "execution_count": null,
   "metadata": {},
   "outputs": [],
   "source": [
    "#22 INCOME3 : Annual Income level\n",
    "'''It is already ordinal with 1 for less than $10,000 all the way up to 8 being $75,000 or more'''\n",
    "# Remove all 77 and 99 (don't knows and refused to answer)\n",
    "\n",
    "brfss_df_selected = brfss_df_selected[brfss_df_selected.INCOME3 != 77]\n",
    "brfss_df_selected = brfss_df_selected[brfss_df_selected.INCOME3 != 99]\n",
    "brfss_df_selected.INCOME3.unique()"
   ]
  },
  {
   "cell_type": "code",
   "execution_count": null,
   "metadata": {},
   "outputs": [],
   "source": [
    "#Check the shape of the dataset now: We have 234951 cleaned rows and 25 columns (1 of which is our dependent variable)\n",
    "brfss_df_selected.shape"
   ]
  },
  {
   "cell_type": "code",
   "execution_count": null,
   "metadata": {},
   "outputs": [],
   "source": [
    "#Check how the data looks after Modifying Values\n",
    "brfss_df_selected.head()"
   ]
  },
  {
   "cell_type": "code",
   "execution_count": null,
   "metadata": {},
   "outputs": [],
   "source": [
    "#Check the size of each class for the diabetes column\n",
    "brfss_df_selected.groupby(['DIABETE4']).size()"
   ]
  },
  {
   "cell_type": "code",
   "execution_count": null,
   "metadata": {},
   "outputs": [],
   "source": [
    "brfss = brfss_df_selected.rename(columns={\n",
    "    'DIABETE4': 'Diabetes_Status',          # Diabetes awareness (No/Pre-diabetes/Diabetes)\n",
    "    '_BMI5': 'BMI',                         # Body Mass Index\n",
    "    '_RFBMI5': 'Obesity_Indicator',         # Obesity indicator (BMI >= 30)\n",
    "    '_RFHYPE6': 'Hypertension',             # Hypertension diagnosis\n",
    "    'TOLDHI3': 'High_Cholesterol',          # High cholesterol diagnosis\n",
    "    '_CHOLCH3': 'Cholesterol_Checked',      # Cholesterol checked in the past 5 years\n",
    "    'CHCKDNY2': 'Chronic_Kidney_Disease',   # Chronic kidney disease diagnosis\n",
    "    'SMOKE100': 'Smoker_100_Cigarettes',    # Smoked at least 100 cigarettes in lifetime\n",
    "    '_RFDRHV8': 'Heavy_Alcohol_Consumption',# Heavy alcohol consumption\n",
    "    'CVDSTRK3': 'Stroke',                   # Stroke diagnosis\n",
    "    '_MICHD': 'Heart_Disease',              # Coronary heart disease or heart attack\n",
    "    '_TOTINDA': 'Physical_Activity',        # Physical activity indicator\n",
    "    'GENHLTH': 'General_Health',            # Self-rated general health status\n",
    "    'PHYSHLTH': 'Physical_Unhealthy_Days',  # Number of physically unhealthy days\n",
    "    'MENTHLTH': 'Mental_Unhealthy_Days',    # Number of mentally unhealthy days\n",
    "    'DIFFWALK': 'Difficulty_Walking',       # Difficulty walking or climbing stairs\n",
    "    '_HLTHPL1': 'Health_Care_Coverage',     # Health care coverage indicator\n",
    "    'MEDCOST1': 'Doctor_Visit_Cost_Issue',  # Could not see doctor due to cost\n",
    "    'CHECKUP1': 'Last_Checkup',             # Last routine check-up timeframe\n",
    "    '_SEX': 'Gender',                       # Gender (Male/Female)\n",
    "    '_AGEG5YR': 'Age_Group',                # Age group in 5-year intervals\n",
    "    'EDUCA': 'Education_Level',             # Education level\n",
    "    'INCOME3': 'Income_Level'               # Annual income level\n",
    "})\n",
    "print(\"Renamed Columns:\")\n",
    "print(brfss.columns)"
   ]
  },
  {
   "cell_type": "code",
   "execution_count": null,
   "metadata": {},
   "outputs": [],
   "source": [
    "brfss.head()"
   ]
  },
  {
   "cell_type": "code",
   "execution_count": null,
   "metadata": {},
   "outputs": [],
   "source": [
    "brfss.shape"
   ]
  },
  {
   "cell_type": "code",
   "execution_count": null,
   "metadata": {},
   "outputs": [],
   "source": [
    "#Check how many respondents have no diabetes, prediabetes or diabetes.\n",
    "brfss.groupby(['Diabetes_Status']).size()"
   ]
  },
  {
   "cell_type": "code",
   "execution_count": null,
   "metadata": {},
   "outputs": [],
   "source": [
    "brfss.to_csv('diabetes_BRFSS2023.csv', sep=\",\", index=False)"
   ]
  },
  {
   "cell_type": "code",
   "execution_count": null,
   "metadata": {},
   "outputs": [],
   "source": [
    "#Copy the old dataframe to a new one.\n",
    "brfss_binary = brfss\n",
    "'''Change:\n",
    "diabetic 2 to 1, pre-diabetic 1 to 0\n",
    "in order to have 0 for no diabetes and pre-diabetes and 1 for respondant has diabetes'''\n",
    "\n",
    "brfss_binary['Diabetes_Status'] = brfss_binary['Diabetes_Status'].replace({1:0, 2:1})\n",
    "\n",
    "#Rename the column to DiabetesBinary\n",
    "brfss_binary = brfss_binary.rename(columns = {'Diabetes_Status': 'Diabetes_binary'})\n",
    "brfss_binary.Diabetes_binary.unique()"
   ]
  },
  {
   "cell_type": "code",
   "execution_count": null,
   "metadata": {},
   "outputs": [],
   "source": [
    "brfss_binary.head()"
   ]
  },
  {
   "cell_type": "code",
   "execution_count": null,
   "metadata": {},
   "outputs": [],
   "source": [
    "#Check size of class\n",
    "brfss_binary.groupby(['Diabetes_binary']).size()"
   ]
  },
  {
   "cell_type": "code",
   "execution_count": null,
   "metadata": {},
   "outputs": [],
   "source": [
    "#Separate the Not Diabetes: 0s ;  Pre-diabetes and Diabetes: 1s, 2s\n",
    "#Get the 1s\n",
    "diabetes_mask = brfss_binary['Diabetes_binary'] == 1\n",
    "brfss_diabetes = brfss_binary[diabetes_mask]\n",
    "\n",
    "#Get the 0s\n",
    "no_diabetes_mask = brfss_binary['Diabetes_binary'] == 0\n",
    "brfss_no_diabetes = brfss_binary[no_diabetes_mask]\n",
    "\n",
    "'''Select 37909 random cases from the non-diabetes group i.e. 0\n",
    "we already have 37909 cases from the diabetes risk group'''\n",
    "brfss_no_diabetes_sampled = brfss_no_diabetes.take(np.random.permutation(len(brfss_no_diabetes))[:37909])\n",
    "\n",
    "# Append the 37909 1s(diabetes) to the 37909 randomly selected 0s(no diabetes)\n",
    "brfss_balanced = brfss_no_diabetes_sampled.append(brfss_diabetes, ignore_index=True)"
   ]
  },
  {
   "cell_type": "code",
   "execution_count": null,
   "metadata": {},
   "outputs": [],
   "source": [
    "#Now we have a dataset of 75818 rows that is equally balanced with 50% 1s and 50% 0s for the target variable Diabetes_binary\n",
    "brfss_balanced"
   ]
  },
  {
   "cell_type": "code",
   "execution_count": null,
   "metadata": {},
   "outputs": [],
   "source": [
    "#See the perfectly balanced class\n",
    "brfss_balanced.groupby(['Diabetes_binary']).size()"
   ]
  },
  {
   "cell_type": "code",
   "execution_count": null,
   "metadata": {},
   "outputs": [],
   "source": [
    "print(f'brfss_5050={brfss_balanced.shape}',f'brfss_binary={brfss_binary.shape}')"
   ]
  },
  {
   "cell_type": "code",
   "execution_count": null,
   "metadata": {},
   "outputs": [],
   "source": [
    "#Binary imbalanced dataset (cleaned)\n",
    "# 2nd save version\n",
    "brfss_binary.to_csv('diabetes_binary_BRFSS2023.csv', sep=\",\", index=False)"
   ]
  },
  {
   "cell_type": "code",
   "execution_count": null,
   "metadata": {},
   "outputs": [],
   "source": [
    "#Binary balanced dataset (cleaned)\n",
    "# 3rd save version\n",
    "brfss_balanced.to_csv('diabetes_binary_5050split_BRFSS2023.csv', sep=\",\", index=False)"
   ]
  },
  {
   "cell_type": "code",
   "execution_count": null,
   "metadata": {},
   "outputs": [],
   "source": [
    "# Load the datasets\n",
    "df_binary = pd.read_csv('diabetes_binary_BRFSS2023.csv')\n",
    "df_5050 = pd.read_csv('diabetes_binary_5050split_BRFSS2023.csv')\n",
    "\n",
    "# Display the first few rows of each dataset\n",
    "df_binary.head()#, df_5050.head()"
   ]
  },
  {
   "cell_type": "code",
   "execution_count": null,
   "metadata": {},
   "outputs": [],
   "source": [
    "df_binary.info(), df_binary.describe()"
   ]
  },
  {
   "cell_type": "code",
   "execution_count": null,
   "metadata": {},
   "outputs": [],
   "source": [
    "#df_5050.info(), df_5050.describe()"
   ]
  },
  {
   "cell_type": "code",
   "execution_count": null,
   "metadata": {},
   "outputs": [],
   "source": [
    "# Correlation heatmap for df_binary\n",
    "numeric_df_binary = df_binary.select_dtypes(include=[np.number])\n",
    "plt.figure(figsize=(12, 8))\n",
    "sns.heatmap(numeric_df_binary.corr(), annot=True, cmap='coolwarm', fmt='.2f')\n",
    "plt.title('Correlation Heatmap for df_binary')\n",
    "plt.show()"
   ]
  },
  {
   "cell_type": "code",
   "execution_count": null,
   "metadata": {},
   "outputs": [],
   "source": [
    "target_correlations = numeric_df_binary.corr()['Diabetes_binary'].sort_values(ascending=False)\n",
    "print(\"Correlations with diabetes_binary:\")\n",
    "print(target_correlations)"
   ]
  },
  {
   "cell_type": "code",
   "execution_count": null,
   "metadata": {},
   "outputs": [],
   "source": [
    "# Exclude the target variable itself and select the top 5\n",
    "top_5_features = target_correlations.index[1:6]  # Skip the first index (target variable itself)\n",
    "top_5_values = target_correlations[1:6]\n",
    "\n",
    "# Display the results\n",
    "print(\"Top 5 Features Correlated with Diabetes_binary:\")\n",
    "for feature, value in zip(top_5_features, top_5_values):\n",
    "    print(f\"{feature}: {value:.2f}\")"
   ]
  },
  {
   "cell_type": "code",
   "execution_count": null,
   "metadata": {},
   "outputs": [],
   "source": [
    "from statsmodels.stats.outliers_influence import variance_inflation_factor\n",
    "import statsmodels.api as sm\n",
    "\n",
    "# Prepare the DataFrame with the top 5 features\n",
    "X_top5 = df_binary[top_5_features]\n",
    "\n",
    "# Add a constant for the intercept\n",
    "X_top5 = sm.add_constant(X_top5)\n",
    "\n",
    "# Calculate VIF for each feature\n",
    "vif_data = pd.DataFrame({\n",
    "    \"Feature\": X_top5.columns,\n",
    "    \"VIF\": [variance_inflation_factor(X_top5.values, i) for i in range(X_top5.shape[1])]\n",
    "})\n",
    "\n",
    "# Display VIF\n",
    "print(\"Variance Inflation Factor (VIF) for Top 5 Features:\")\n",
    "print(vif_data)"
   ]
  },
  {
   "cell_type": "code",
   "execution_count": null,
   "metadata": {},
   "outputs": [],
   "source": [
    "X = df_binary[top_5_features]\n",
    "y = df_binary['Diabetes_binary']  # Dependent variable\n",
    "\n",
    "# Add a constant for the intercept\n",
    "X_with_constant = sm.add_constant(X)\n",
    "\n",
    "# Logistic Regression Model\n",
    "logit_model = sm.Logit(y, X_with_constant)\n",
    "result = logit_model.fit()\n",
    "\n",
    "# Print the summary\n",
    "print(result.summary())"
   ]
  },
  {
   "cell_type": "code",
   "execution_count": null,
   "metadata": {},
   "outputs": [],
   "source": [
    "from sklearn.feature_selection import chi2\n",
    "from scipy.stats import chi2_contingency, ttest_ind\n",
    "\n",
    "diabetes_group = df_binary[df_binary['Diabetes_binary'] == 1]['General_Health']\n",
    "no_diabetes_group = df_binary[df_binary['Diabetes_binary'] == 0]['General_Health']\n",
    "\n",
    "# Perform T-Test\n",
    "t_stat, p_val = ttest_ind(diabetes_group, no_diabetes_group)\n",
    "\n",
    "# Print results\n",
    "print(\"T-statistic:\", t_stat)\n",
    "print(\"p-value:\", p_val)\n",
    "\n",
    "# Interpret Results\n",
    "if p_val < 0.05:\n",
    "    print(\"The mean General_Health differs significantly between Diabetes_binary groups.\")\n",
    "else:\n",
    "    print(\"No significant difference in General_Health between Diabetes_binary groups.\")"
   ]
  },
  {
   "cell_type": "code",
   "execution_count": null,
   "metadata": {},
   "outputs": [],
   "source": [
    "contingency_table = pd.crosstab(df_binary['Diabetes_binary'], df_binary['Hypertension'])\n",
    "\n",
    "# Perform Chi-Square Test\n",
    "chi2, p, dof, expected = chi2_contingency(contingency_table)\n",
    "\n",
    "# Print results\n",
    "print(\"Chi-Square Statistic:\", chi2)\n",
    "print(\"p-value:\", p)\n",
    "\n",
    "# Interpret Results\n",
    "if p < 0.05:\n",
    "    print(\"There is a significant association between Diabetes_Status and Hypertension.\")\n",
    "else:\n",
    "    print(\"No significant association between Diabetes_Status and Hypertension.\")"
   ]
  },
  {
   "cell_type": "code",
   "execution_count": null,
   "metadata": {},
   "outputs": [],
   "source": [
    "contingency_table = pd.crosstab(df_binary['Diabetes_binary'], df_binary['Age_Group'])\n",
    "\n",
    "# Perform Chi-Square Test\n",
    "chi2, p, dof, expected = chi2_contingency(contingency_table)\n",
    "\n",
    "# Print results\n",
    "print(\"Chi-Square Statistic:\", chi2)\n",
    "print(\"p-value:\", p)\n",
    "\n",
    "# Interpret Results\n",
    "if p < 0.05:\n",
    "    print(\"There is a significant association between Diabetes_Status and Age_Group.\")\n",
    "else:\n",
    "    print(\"No significant association between Diabetes_Status and Age_Group.\")"
   ]
  },
  {
   "cell_type": "code",
   "execution_count": null,
   "metadata": {},
   "outputs": [],
   "source": [
    "contingency_table = pd.crosstab(df_binary['Diabetes_binary'], df_binary['High_Cholesterol'])\n",
    "\n",
    "# Perform Chi-Square Test\n",
    "chi2, p, dof, expected = chi2_contingency(contingency_table)\n",
    "\n",
    "# Print results\n",
    "print(\"Chi-Square Statistic:\", chi2)\n",
    "print(\"p-value:\", p)\n",
    "\n",
    "# Interpret Results\n",
    "if p < 0.05:\n",
    "    print(\"There is a significant association between Diabetes_Status and High_Cholesterol.\")\n",
    "else:\n",
    "    print(\"No significant association between Diabetes_Status and High_Cholesterol.\")"
   ]
  },
  {
   "cell_type": "code",
   "execution_count": null,
   "metadata": {},
   "outputs": [],
   "source": [
    "# Example: Test mean BMI difference between Diabetes_Status groups\n",
    "diabetes_group = df_binary[df_binary['Diabetes_binary'] == 1]['BMI']\n",
    "no_diabetes_group = df_binary[df_binary['Diabetes_binary'] == 0]['BMI']\n",
    "\n",
    "# Perform T-Test\n",
    "t_stat, p_val = ttest_ind(diabetes_group, no_diabetes_group)\n",
    "\n",
    "# Print results\n",
    "print(\"T-statistic:\", t_stat)\n",
    "print(\"p-value:\", p_val)\n",
    "\n",
    "# Interpret Results\n",
    "if p_val < 0.05:\n",
    "    print(\"The mean BMI differs significantly between Diabetes_binary groups.\")\n",
    "else:\n",
    "    print(\"No significant difference in BMI between Diabetes_binary groups.\")"
   ]
  },
  {
   "cell_type": "code",
   "execution_count": null,
   "metadata": {},
   "outputs": [],
   "source": [
    "from sklearn.feature_selection import RFE\n",
    "from sklearn.linear_model import LogisticRegression\n",
    "\n",
    "# Ensure the dataset and variables are correctly defined\n",
    "# Assuming `df_5050` contains the balanced dataset\n",
    "# `top_5_features` are the features selected based on correlation analysis\n",
    "\n",
    "# Initialize the logistic regression model\n",
    "model = LogisticRegression(max_iter=1000)  # Ensure convergence for complex datasets\n",
    "\n",
    "# Perform RFE to select the best 5 features\n",
    "rfe = RFE(estimator=model, n_features_to_select=5)\n",
    "rfe.fit(df_5050[top_5_features], df_5050['Diabetes_binary'])\n",
    "\n",
    "# Display selected features\n",
    "selected_features_rfe = df_5050[top_5_features].columns[rfe.support_]\n",
    "print(\"Features Selected by RFE:\", selected_features_rfe)"
   ]
  },
  {
   "cell_type": "code",
   "execution_count": null,
   "metadata": {},
   "outputs": [],
   "source": [
    "# Use the final set of features (selected by RFE or based on VIF analysis)\n",
    "final_features = selected_features_rfe # Alternatively, use manually selected features\n",
    "\n",
    "# Split data into training and testing sets\n",
    "from sklearn.model_selection import train_test_split\n",
    "X = df_5050[final_features]\n",
    "y = df_5050['Diabetes_binary']\n",
    "\n",
    "X_train, X_test, y_train, y_test = train_test_split(X, y, test_size=0.2, random_state=42)\n",
    "\n",
    "# Train a logistic regression model\n",
    "model_final = LogisticRegression()\n",
    "model_final.fit(X_train, y_train)\n",
    "\n",
    "# Evaluate the model\n",
    "from sklearn.metrics import accuracy_score, classification_report\n",
    "y_pred = model_final.predict(X_test)\n",
    "print(\"Accuracy:\", accuracy_score(y_test, y_pred))\n",
    "print(\"Classification Report:\\n\", classification_report(y_test, y_pred))"
   ]
  },
  {
   "cell_type": "code",
   "execution_count": null,
   "metadata": {},
   "outputs": [],
   "source": [
    "#! git init"
   ]
  },
  {
   "cell_type": "code",
   "execution_count": null,
   "metadata": {},
   "outputs": [],
   "source": [
    "! git add DA01_Project.ipynb"
   ]
  },
  {
   "cell_type": "code",
   "execution_count": null,
   "metadata": {},
   "outputs": [],
   "source": [
    "! git add .gitignore"
   ]
  },
  {
   "cell_type": "code",
   "execution_count": null,
   "metadata": {},
   "outputs": [],
   "source": [
    "! git commit -m 'change datasets'"
   ]
  },
  {
   "cell_type": "code",
   "execution_count": null,
   "metadata": {},
   "outputs": [],
   "source": [
    "! git push -u origin main"
   ]
  }
 ],
 "metadata": {
  "kernelspec": {
   "display_name": "Python 3 (ipykernel)",
   "language": "python",
   "name": "python3"
  },
  "language_info": {
   "codemirror_mode": {
    "name": "ipython",
    "version": 3
   },
   "file_extension": ".py",
   "mimetype": "text/x-python",
   "name": "python",
   "nbconvert_exporter": "python",
   "pygments_lexer": "ipython3",
   "version": "3.12.4"
  }
 },
 "nbformat": 4,
 "nbformat_minor": 4
}
