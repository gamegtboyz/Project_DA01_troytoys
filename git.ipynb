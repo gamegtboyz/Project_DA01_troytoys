{
 "cells": [
  {
   "cell_type": "code",
   "execution_count": 1,
   "metadata": {},
   "outputs": [
    {
     "name": "stdout",
     "output_type": "stream",
     "text": [
      "Reinitialized existing Git repository in /Users/troytoy/DA01-diabetes/Test_2/.git/\n"
     ]
    }
   ],
   "source": [
    "! git init"
   ]
  },
  {
   "cell_type": "code",
   "execution_count": 2,
   "metadata": {},
   "outputs": [],
   "source": [
    "! git add DA01_Project.ipynb"
   ]
  },
  {
   "cell_type": "markdown",
   "metadata": {},
   "source": [
    "! git add .gitignore"
   ]
  },
  {
   "cell_type": "code",
   "execution_count": 3,
   "metadata": {},
   "outputs": [
    {
     "name": "stdout",
     "output_type": "stream",
     "text": [
      "[detached HEAD d1b6e0b] update commit\n",
      " Committer: Troy Toy <troytoy@Mac.box>\n",
      "Your name and email address were configured automatically based\n",
      "on your username and hostname. Please check that they are accurate.\n",
      "You can suppress this message by setting them explicitly. Run the\n",
      "following command and follow the instructions in your editor to edit\n",
      "your configuration file:\n",
      "\n",
      "    git config --global --edit\n",
      "\n",
      "After doing this, you may fix the identity used for this commit with:\n",
      "\n",
      "    git commit --amend --reset-author\n",
      "\n",
      " 7 files changed, 1109 insertions(+), 4323 deletions(-)\n",
      " create mode 100644 .ipynb_checkpoints/VIsualization-checkpoint.ipynb\n",
      " create mode 100644 1.Portion of People with and without Diabetes.png\n",
      " create mode 100644 2.Distribution of Age_group.png\n",
      " create mode 100644 2.Distribution_of_Age_group.png\n",
      " create mode 100644 VIsualization.ipynb\n"
     ]
    }
   ],
   "source": [
    "! git commit -m 'update commit'"
   ]
  },
  {
   "cell_type": "code",
   "execution_count": 4,
   "metadata": {},
   "outputs": [
    {
     "name": "stdout",
     "output_type": "stream",
     "text": [
      "fatal: cannot rename the current branch while not on any.\n",
      "branch 'main' set up to track 'origin/main'.\n",
      "Everything up-to-date\n"
     ]
    }
   ],
   "source": [
    "#! git remote add origin https://github.com/troytoy/Project_DA01.git\n",
    "! git branch -M main\n",
    "! git push -u origin main"
   ]
  },
  {
   "cell_type": "code",
   "execution_count": 24,
   "metadata": {},
   "outputs": [
    {
     "name": "stdout",
     "output_type": "stream",
     "text": [
      "error: Pulling is not possible because you have unmerged files.\n",
      "\u001b[33mhint: Fix them up in the work tree, and then use 'git add/rm <file>'\u001b[m\n",
      "\u001b[33mhint: as appropriate to mark resolution and make a commit.\u001b[m\n",
      "fatal: Exiting because of an unresolved conflict.\n"
     ]
    }
   ],
   "source": [
    "! git pull origin main --rebase"
   ]
  },
  {
   "cell_type": "code",
   "execution_count": 25,
   "metadata": {},
   "outputs": [],
   "source": [
    "! git add DA01_Project.ipynb"
   ]
  },
  {
   "cell_type": "code",
   "execution_count": 26,
   "metadata": {},
   "outputs": [
    {
     "name": "stdout",
     "output_type": "stream",
     "text": [
      ".ipynb_checkpoints/DA01_Project-checkpoint.ipynb: needs merge\n",
      "You must edit all merge conflicts and then\n",
      "mark them as resolved using git add\n"
     ]
    }
   ],
   "source": [
    "! git rebase --continue"
   ]
  },
  {
   "cell_type": "code",
   "execution_count": 27,
   "metadata": {},
   "outputs": [
    {
     "name": "stdout",
     "output_type": "stream",
     "text": [
      "Everything up-to-date\n"
     ]
    }
   ],
   "source": [
    "! git push origin main"
   ]
  },
  {
   "cell_type": "code",
   "execution_count": 28,
   "metadata": {},
   "outputs": [
    {
     "name": "stdout",
     "output_type": "stream",
     "text": [
      "Everything up-to-date\n"
     ]
    }
   ],
   "source": [
    "! git push origin main --force"
   ]
  },
  {
   "cell_type": "code",
   "execution_count": 6,
   "metadata": {},
   "outputs": [
    {
     "name": "stdout",
     "output_type": "stream",
     "text": [
      "\u001b[31minteractive rebase in progress; onto \u001b[mdda2481\n",
      "Last commands done (7 commands done):\n",
      "   pick 14bf141 change datasets\n",
      "   pick f73c6d5 initial commit\n",
      "  (see more in file .git/rebase-merge/done)\n",
      "No commands remaining.\n",
      "You are currently editing a commit while rebasing branch 'main' on 'dda2481'.\n",
      "  (use \"git commit --amend\" to amend the current commit)\n",
      "  (use \"git rebase --continue\" once you are satisfied with your changes)\n",
      "\n",
      "Changes not staged for commit:\n",
      "  (use \"git add/rm <file>...\" to update what will be committed)\n",
      "  (use \"git restore <file>...\" to discard changes in working directory)\n",
      "\t\u001b[31mdeleted:    2.Distribution of Age_group.png\u001b[m\n",
      "\t\u001b[31mmodified:   VIsualization.ipynb\u001b[m\n",
      "\n",
      "Untracked files:\n",
      "  (use \"git add <file>...\" to include in what will be committed)\n",
      "\t\u001b[31m2.Age_Group_Distribution_Heatmap.png\u001b[m\n",
      "\t\u001b[31m3.BMI_vs_Diabetes_Heatmap.png\u001b[m\n",
      "\t\u001b[31mgit.ipynb\u001b[m\n",
      "\n",
      "no changes added to commit (use \"git add\" and/or \"git commit -a\")\n"
     ]
    }
   ],
   "source": [
    "! git status"
   ]
  },
  {
   "cell_type": "code",
   "execution_count": 7,
   "metadata": {},
   "outputs": [
    {
     "name": "stdout",
     "output_type": "stream",
     "text": [
      "D\t2.Distribution of Age_group.png\n",
      "M\tVIsualization.ipynb\n",
      "Warning: you are leaving 8 commits behind, not connected to\n",
      "any of your branches:\n",
      "\n",
      "  d1b6e0b update commit\n",
      "  cc9d618 change datasets\n",
      "  ede12a4 change datasets\n",
      "  b30b905 change datasets\n",
      " ... and 4 more.\n",
      "\n",
      "If you want to keep them by creating a new branch, this may be a good time\n",
      "to do so with:\n",
      "\n",
      " git branch <new-branch-name> d1b6e0b\n",
      "\n",
      "Switched to branch 'main'\n",
      "Your branch is up to date with 'origin/main'.\n"
     ]
    }
   ],
   "source": [
    "! git checkout main"
   ]
  },
  {
   "cell_type": "code",
   "execution_count": 8,
   "metadata": {},
   "outputs": [
    {
     "name": "stdout",
     "output_type": "stream",
     "text": [
      "branch 'main' set up to track 'origin/main'.\n"
     ]
    }
   ],
   "source": [
    "! git branch --set-upstream-to=origin/main main"
   ]
  },
  {
   "cell_type": "code",
   "execution_count": 9,
   "metadata": {},
   "outputs": [
    {
     "name": "stdout",
     "output_type": "stream",
     "text": [
      "Already up to date.\n"
     ]
    }
   ],
   "source": [
    " !git pull"
   ]
  },
  {
   "cell_type": "code",
   "execution_count": null,
   "metadata": {},
   "outputs": [],
   "source": []
  }
 ],
 "metadata": {
  "kernelspec": {
   "display_name": "Python 3",
   "language": "python",
   "name": "python3"
  },
  "language_info": {
   "codemirror_mode": {
    "name": "ipython",
    "version": 3
   },
   "file_extension": ".py",
   "mimetype": "text/x-python",
   "name": "python",
   "nbconvert_exporter": "python",
   "pygments_lexer": "ipython3",
   "version": "3.13.0"
  }
 },
 "nbformat": 4,
 "nbformat_minor": 2
}
